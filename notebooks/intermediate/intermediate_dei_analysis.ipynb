{
 "cells": [
  {
   "cell_type": "markdown",
   "metadata": {},
   "source": [
    "# Intermediate Level: Statistical Analysis of DEI in Music Industry\n",
    "\n",
    "Welcome to the intermediate workshop on DEI in the music industry! This notebook builds on the beginner level with more advanced analysis and visualization techniques.\n",
    "\n",
    "## Learning Objectives:\n",
    "- Understand the importance of DEI and how it affects the music industry\n",
    "- Create advanced visualizations with multiple variables\n",
    "- Analyze correlation patterns in the data\n",
    "- Apply grouping and aggregation techniques\n",
    "\n",
    "\n",
    "## Prerequisites:\n",
    "You should have completed the beginner level or be familiar with basic pandas and matplotlib operations."
   ]
  },
  {
   "metadata": {},
   "cell_type": "markdown",
   "source": [
    "## 🚀 Getting Started\n",
    "Let's start by importing the libraries we'll need and loading our data."
   ]
  },
  {
   "cell_type": "code",
   "metadata": {
    "ExecuteTime": {
     "end_time": "2025-10-17T08:04:05.377530Z",
     "start_time": "2025-10-17T08:04:05.352286Z"
    }
   },
   "source": [
    "# Import necessary libraries\n",
    "import pandas as pd\n",
    "import numpy as np\n",
    "import matplotlib.pyplot as plt\n",
    "import seaborn as sns\n",
    "from scipy import stats\n",
    "import plotly.express as px\n",
    "import plotly.graph_objects as go\n",
    "from plotly.subplots import make_subplots\n",
    "\n",
    "# Set up plotting style\n",
    "plt.style.use('default')\n",
    "sns.set_palette(\"Set2\")\n",
    "plt.rcParams['figure.figsize'] = (12, 8)\n",
    "\n",
    "print(\"Libraries imported successfully!\")"
   ],
   "outputs": [
    {
     "name": "stdout",
     "output_type": "stream",
     "text": [
      "Libraries imported successfully!\n"
     ]
    }
   ],
   "execution_count": 1
  },
  {
   "metadata": {
    "ExecuteTime": {
     "end_time": "2025-10-17T08:12:22.162384Z",
     "start_time": "2025-10-17T08:12:22.157191Z"
    }
   },
   "cell_type": "markdown",
   "source": [
    "## 📂 Load the Dataset\n",
    "\n",
    "We have 4 datasets, each representing a different (anonymized) genre, and a legend describing the columns."
   ]
  },
  {
   "cell_type": "code",
   "metadata": {
    "ExecuteTime": {
     "end_time": "2025-10-20T20:29:05.101165Z",
     "start_time": "2025-10-20T20:29:04.994955Z"
    }
   },
   "source": [
    "# Explicitly list the 4 dataset files\n",
    "# 💡 Store the file paths in a list called data_files.\n",
    "# 📖 Docs: Working with file paths in Python: https://docs.python.org/3/library/os.path.html\n",
    "data_files = [\n",
    "    \"../../data/1 Creators and their Listeners with gender and 6 locations.csv\",\n",
    "    \"../../data/2 Creators and their Listeners with gender and 6 locations.csv\",\n",
    "    \"../../data/3 Creators and their Listeners with gender and 6 locations.csv\",\n",
    "    \"../../data/5 Creators and their Listeners with gender and 6 locations.csv\"\n",
    "]\n",
    "\n",
    "# Load all datasets into a dictionary\n",
    "# 💡 Reading the csv file for each data set above\n",
    "# 📖 Docs: Reading CSV files with pandas: https://pandas.pydata.org/docs/reference/api/pandas.read_csv.html\n",
    "datasets = {}\n",
    "for i, file in enumerate(data_files):\n",
    "    name = f\"Genre {i+1}\"\n",
    "    datasets[name] = pd.read_csv(file)\n",
    "\n",
    "# Load comments dataset\n",
    "comments_data = pd.read_csv(\"../../data/creator and listener comments by gender and anonymised genre.csv\")\n",
    "\n",
    "# Load legend\n",
    "legend = pd.read_csv(\"../../data/legend.csv\")"
   ],
   "outputs": [],
   "execution_count": 93
  },
  {
   "metadata": {},
   "cell_type": "markdown",
   "source": [
    "## 🔍 Explore the Data\n",
    "Get familiarized with the genre & comments datasets before jumping to the next step!\n",
    "- How does the data look like?\n",
    "- What are the columns? What do they represent?\n",
    "- What are the data types?\n",
    "- What are the missing values?\n",
    "- Are there any duplicates?\n",
    "\n",
    "Is there anything you would like to transform in the data?  (e.g. change data types, remove certain columns, rows, replace values, deal with null values etc.)"
   ]
  },
  {
   "metadata": {
    "ExecuteTime": {
     "end_time": "2025-10-17T13:47:35.170695Z",
     "start_time": "2025-10-17T13:47:35.168317Z"
    }
   },
   "cell_type": "code",
   "source": [
    "# Explore how the Genre datasets look like\n",
    "## 🧐 Understand what the data represents\n",
    "## 🔍 Look up column descriptions in the legend\n",
    "\n",
    "\n",
    "\n"
   ],
   "outputs": [],
   "execution_count": 34
  },
  {
   "metadata": {
    "ExecuteTime": {
     "end_time": "2025-10-17T13:47:36.632656Z",
     "start_time": "2025-10-17T13:47:36.630299Z"
    }
   },
   "cell_type": "code",
   "source": [
    "# Explore how the comments dataset look like\n",
    "## 🧐Understand what the data represents\n",
    "## 🔍 Look up column descriptions in the legend\n",
    "\n",
    "\n",
    "\n",
    "\n"
   ],
   "outputs": [],
   "execution_count": 35
  },
  {
   "metadata": {
    "ExecuteTime": {
     "end_time": "2025-10-17T13:47:37.581058Z",
     "start_time": "2025-10-17T13:47:37.578726Z"
    }
   },
   "cell_type": "code",
   "source": "# 📊Do any data transformations you consider necessary before jumping to the next step\n",
   "outputs": [],
   "execution_count": 36
  },
  {
   "metadata": {},
   "cell_type": "markdown",
   "source": [
    "Before moving on to the next step, we’d like to emphasize that this workshop is all about fostering creativity and having fun! Feel free to create additional visualizations whenever you feel they enhance your storytelling. Some of our favorite visualization types include:\n",
    "\n",
    "- Bar plots\n",
    "- Pie charts\n",
    "- Heatmaps\n",
    "- Scatter plots\n",
    "- Box plots\n",
    "- Sankey diagrams\n",
    "\n",
    "That said, you’re not limited to these options. Experiment and explore other visualization methods that align with your data and the story you want to convey!"
   ]
  },
  {
   "metadata": {
    "ExecuteTime": {
     "end_time": "2025-10-17T13:09:08.970417Z",
     "start_time": "2025-10-17T13:09:08.968878Z"
    }
   },
   "cell_type": "markdown",
   "source": [
    "## 🎧 Step 1: Creator-Listener Gender Dynamics\n",
    "*Let's investigate whether creator gender identity influences listener demographics and consumption patterns, establishing baseline understanding of potential gender-based preferences, biases, or barriers in music discovery and consumption across genres and global markets.*"
   ]
  },
  {
   "metadata": {},
   "cell_type": "markdown",
   "source": [
    "### a) 📊 Overall Creator-Listener Gender Influence\n",
    "Let's examine the question of whether creator gender creates systematic patterns in listener demographics, identifying potential gender-based consumption biases that could impact creator visibility and success.\n",
    "\n",
    "- Do listeners show preferential consumption patterns based on creator gender?\n",
    "- Are there gender groups facing systemic disadvantages in reaching diverse audiences?\n",
    "- How strong is the overall creator-listener gender correlation and what does this mean for equity?"
   ]
  },
  {
   "metadata": {
    "ExecuteTime": {
     "end_time": "2025-10-17T16:50:25.175087Z",
     "start_time": "2025-10-17T16:50:25.171502Z"
    }
   },
   "cell_type": "code",
   "source": [
    "# Calculate total listener gender proportions by creator gender\n",
    "\n",
    "\n",
    "# Calculate the overall correlation between creator and listeners' gender\n",
    "\n"
   ],
   "outputs": [],
   "execution_count": 43
  },
  {
   "metadata": {},
   "cell_type": "code",
   "outputs": [],
   "execution_count": null,
   "source": [
    "# Optional: Analyze the statistical significance with a t-test\n",
    "\n",
    "\n"
   ]
  },
  {
   "metadata": {},
   "cell_type": "code",
   "outputs": [],
   "execution_count": null,
   "source": [
    "# Visualize the results (use the plots you find most appropriate)\n",
    "\n"
   ]
  },
  {
   "metadata": {},
   "cell_type": "markdown",
   "source": [
    "### b) 📚 Creator-Listener Gender Influence by Genre\n",
    "We'll analyze how musical genres may amplify or mitigate gender-based listening patterns, identifying genres that promote cross-gender consumption versus those that may reinforce gender disparities.\n",
    "\n",
    "- Which genres demonstrate the most inclusive cross-gender listening patterns?\n",
    "- Are there genres where creator gender significantly limits audience diversity?\n",
    "- Are there genres where certain creator genders struggle to gain audience attention?\n"
   ]
  },
  {
   "metadata": {
    "ExecuteTime": {
     "end_time": "2025-10-17T17:00:58.049293Z",
     "start_time": "2025-10-17T17:00:58.047144Z"
    }
   },
   "cell_type": "code",
   "source": [
    "# Calculate Creator gender distribution (how many male/female/custom/null creators per genre)\n",
    "\n",
    "\n",
    "# Calculate Listener gender % by creator gender per genre\n",
    "\n"
   ],
   "outputs": [],
   "execution_count": 44
  },
  {
   "metadata": {
    "ExecuteTime": {
     "end_time": "2025-10-17T17:01:52.684345Z",
     "start_time": "2025-10-17T17:01:52.681985Z"
    }
   },
   "cell_type": "code",
   "source": [
    "# Optional: Statistical analysis: Does creator gender affect listener demographics within this genre?\n",
    "# e.g. chi-squared test\n",
    "\n"
   ],
   "outputs": [],
   "execution_count": 45
  },
  {
   "metadata": {},
   "cell_type": "code",
   "outputs": [],
   "execution_count": null,
   "source": [
    "# Visualize the results (use the plots you find most appropriate)\n",
    "\n",
    "\n"
   ]
  },
  {
   "metadata": {},
   "cell_type": "markdown",
   "source": [
    "### c) 🌍 Creator-Listener Gender Influence by Country\n",
    "This analysis will reveal how cultural contexts and regional attitudes influence creator-listener gender dynamics, identifying markets that foster inclusive consumption versus those with potential cultural barriers.\n",
    "\n",
    "- Do certain countries show more equitable cross-gender listening patterns?\n",
    "- Are there cultural markets where creator gender creates significant audience limitations?\n",
    "- How do regional cultural norms impact creator opportunities for diverse audience reach?\n",
    "- Which global markets demonstrate the most inclusive creator-listener gender dynamics?"
   ]
  },
  {
   "metadata": {},
   "cell_type": "code",
   "outputs": [],
   "execution_count": null,
   "source": [
    "# Calculate Creator gender distribution (how many male/female/custom/null creators per country) \\\n",
    "# Optional: you can include the genre too\n",
    "\n",
    "\n",
    "# Calculate Listener gender % by creator gender per country of the listener (optional: and genre)\n",
    "\n",
    "\n",
    "# Calculate Listener gender % by creator gender per country of the creator (optional: and genre)\n",
    "\n",
    "\n"
   ]
  },
  {
   "metadata": {},
   "cell_type": "code",
   "outputs": [],
   "execution_count": null,
   "source": [
    "# Visualization time!\n",
    "\n",
    "\n",
    "\n"
   ]
  },
  {
   "metadata": {},
   "cell_type": "markdown",
   "source": [
    "## 💬 Step 2 (Optional): Creator Engagement Equity Analysis\n",
    "*Let's analyze gender representation and inclusive participation patterns in creator-driven community engagement, identifying barriers to equitable voice and participation opportunities across gender identities and musical genres.*\n",
    "\n"
   ]
  },
  {
   "metadata": {},
   "cell_type": "markdown",
   "source": [
    "### a) 👥 Gender Equity in Creators' Engagement\n",
    "Let's analyze whether there are equitable participation opportunities across creator genders and identify any barriers to engagement that may disproportionately affect certain gender groups.\n",
    "- Do all creator genders have equal representation in platform engagement?\n",
    "- Are there systemic barriers preventing equitable participation by gender?\n",
    "- How do you think gender identity impacts creator engagement opportunities?"
   ]
  },
  {
   "metadata": {},
   "cell_type": "code",
   "outputs": [],
   "execution_count": null,
   "source": [
    "# Find out which creators' genders are more active commenters (as new commenters) across genres\n",
    "\n",
    "\n",
    "\n",
    "# Find out which creators' genders are more active responders across genres\n",
    "\n",
    "\n",
    "\n",
    "# Optional: do a statistical significance test\n",
    "\n",
    "\n"
   ]
  },
  {
   "metadata": {},
   "cell_type": "markdown",
   "source": [
    "### b) 🎧 Creator's vs Listener's Engagement Analysis\n",
    "Let's build on top of 3a and contrast the findings with the engagement of the listener. We'll examine whether engagement dynamics create inclusive environments for all genders and identify potential biases in how different creator genders receive listener engagement.\n",
    "\n",
    "- Are listeners engaging equitably with creators across all gender identities?\n",
    "- Do certain creator genders receive disproportionate engagement responses?\n",
    "- How does genre influence inclusive engagement patterns between creators and listeners?"
   ]
  },
  {
   "metadata": {
    "ExecuteTime": {
     "end_time": "2025-10-17T17:06:36.283812Z",
     "start_time": "2025-10-17T17:06:36.281829Z"
    }
   },
   "cell_type": "code",
   "source": [
    "# Which creators' genders have the most listeners' comments?\n",
    "# Does this finding differ from the findings in 3a?\n",
    "\n",
    "\n",
    "\n"
   ],
   "outputs": [],
   "execution_count": 46
  },
  {
   "metadata": {},
   "cell_type": "markdown",
   "source": [
    "### c) 🎵 Diversity & Inclusion Across Musical Genres\n",
    "Let's add another layer to the analysis of 3b) by looking at the engagement by genre. This analysis will identify genres that foster inclusive creator participation and reveal where gender-based engagement disparities may limit diverse representation in music communities.\n",
    "\n",
    "- Which genres demonstrate the most inclusive engagement environments for all creator genders?\n",
    "- Are there genres where certain gender groups face engagement disadvantages?\n",
    "- How can we identify and address genre-specific barriers to equitable creator participation?"
   ]
  },
  {
   "metadata": {},
   "cell_type": "code",
   "outputs": [],
   "execution_count": null,
   "source": [
    "# Which genres are the most inclusive for all creator genders?\n",
    "# It can be measured by the listeners' comments\n",
    "\n",
    "\n",
    "\n",
    "# Which genres are less inclusive?\n",
    "\n",
    "\n"
   ]
  },
  {
   "metadata": {},
   "cell_type": "code",
   "outputs": [],
   "execution_count": null,
   "source": [
    "# Visualize findings from Step 2\n",
    "\n",
    "\n",
    "\n"
   ]
  },
  {
   "metadata": {},
   "cell_type": "markdown",
   "source": [
    "## Step 3 (Optional): 🌐 Integrated Creator Equity Analysis\n",
    "\n",
    "*Let's examine how consumption patterns (plays) translate into community participation (comments) and identifying systemic barriers that may prevent equal opportunities for creators across genres, countries, and gender identities.*"
   ]
  },
  {
   "metadata": {
    "ExecuteTime": {
     "end_time": "2025-10-17T12:50:25.302171Z",
     "start_time": "2025-10-17T12:50:25.299551Z"
    }
   },
   "cell_type": "markdown",
   "source": [
    "### a) 🎧 Consumption vs Participation Equity Gap Analysis\n",
    "Let's examine whether high consumption (plays) translates to equal participation opportunities (comments) across creator genders, identifying potential \"listen but don't engage\" disparities.\n",
    "\n",
    "- Are there gender groups who consume content but face barriers to active participation?\n",
    "- How does the consumption-to-engagement conversion rate vary by creator gender?\n",
    "- Which creator genders have the highest \"engagement efficiency\" (comments per play)?"
   ]
  },
  {
   "metadata": {},
   "cell_type": "code",
   "outputs": [],
   "execution_count": null,
   "source": [
    "# Calculate comments per plays per creators' gender\n",
    "\n",
    "\n",
    "# how many plays does a creator have to have 1 comment? (per gender)\n",
    "\n",
    "\n"
   ]
  },
  {
   "metadata": {},
   "cell_type": "markdown",
   "source": [
    "### b) 🎵 Genre Ecosystem Equity: From Streams to Voice\n",
    "This comprehensive analysis will identify music genres that provide both audience reach AND authentic community engagement opportunities for underrepresented creator genders.\n",
    "\n",
    "- Which genres offer both high listening AND inclusive engagement for all creator genders?\n",
    "- Are there genres where certain creator genders get plays but lack community voice/engagement?\n",
    "- How do genre popularity patterns (plays) compare to genre participation patterns (comments)?"
   ]
  },
  {
   "metadata": {},
   "cell_type": "code",
   "outputs": [],
   "execution_count": null,
   "source": [
    "# Split 3a results into the different genres\n",
    "\n"
   ]
  },
  {
   "metadata": {
    "ExecuteTime": {
     "end_time": "2025-10-17T16:16:53.946224Z",
     "start_time": "2025-10-17T16:16:53.943811Z"
    }
   },
   "cell_type": "markdown",
   "source": [
    "### c) 🌍 Global Inclusion: Cross-Cultural Engagement Patterns\n",
    "We'll analyze how cultural contexts (countries) influence both listening preferences AND engagement behaviors to identify regions fostering inclusive creator-listener relationships.\n",
    "\n",
    "- Do countries with diverse listening patterns also show inclusive engagement behaviors?\n",
    "- How do listener gender demographics by country correlate with creator engagement patterns?\n",
    "- Are there cultural barriers that affect certain creator genders' engagement opportunities globally?"
   ]
  },
  {
   "metadata": {},
   "cell_type": "code",
   "outputs": [],
   "execution_count": null,
   "source": [
    "# Contrast the genres with more geographical diversity among the listeners and the number of comments by listeners\n",
    "# How does geographical diversity among the listeners correlate with the number of comments by listeners?\n",
    "\n",
    "\n",
    "# Include gender in that contrast\n",
    "# How does geographical and gender diversity within genre correlate with the number of comments by listeners?\n",
    "\n",
    "\n"
   ]
  },
  {
   "metadata": {
    "ExecuteTime": {
     "end_time": "2025-10-17T16:24:42.663691Z",
     "start_time": "2025-10-17T16:24:42.658472Z"
    }
   },
   "cell_type": "markdown",
   "source": [
    "## 💡 Key Insights\n",
    "\n",
    "Based on your analysis above, write down 3-5 key insights you've discovered about DEI in the music industry:"
   ]
  },
  {
   "cell_type": "markdown",
   "metadata": {},
   "source": [
    "### Your Insights:\n",
    "\n",
    "1. **Gender Representation**: [Write your observation about gender distribution among creators and listeners]\n",
    "\n",
    "2. **Listener Diversity by Country**: [Write your observation about how listener demographics differ across countries]\n",
    "\n",
    "3. **Genre-Specific Trends**: [Write your observation about differences across genres]\n",
    "\n",
    "4. **Data Limitations & Biases**: [Write your observation about missing or anonymized data and its implications]\n",
    "\n",
    "5. **Additional Insight**: [Any other pattern you noticed]"
   ]
  },
  {
   "cell_type": "markdown",
   "metadata": {},
   "source": [
    "## Next Steps\n",
    "\n",
    "Excellent work! You've completed intermediate-level statistical analysis including:\n",
    "\n",
    "- Extracting insights from data related to creators and listeners in the music industry.\n",
    "- Visualizing relationships and patterns within the data to uncover the underlying patterns.\n",
    "- Performing statistical analyses to evaluate the significance of relationships in the data.\n",
    "\n",
    "### Ready for the advanced level?\n",
    "Move on to the **Advanced Level** notebook for more advanced statistical analysis and machine learning techniques."
   ]
  }
 ],
 "metadata": {
  "kernelspec": {
   "display_name": "Python 3",
   "language": "python",
   "name": "python3"
  },
  "language_info": {
   "codemirror_mode": {
    "name": "ipython",
    "version": 3
   },
   "file_extension": ".py",
   "mimetype": "text/x-python",
   "name": "python",
   "nbconvert_exporter": "python",
   "pygments_lexer": "ipython3",
   "version": "3.8.5"
  }
 },
 "nbformat": 4,
 "nbformat_minor": 4
}
