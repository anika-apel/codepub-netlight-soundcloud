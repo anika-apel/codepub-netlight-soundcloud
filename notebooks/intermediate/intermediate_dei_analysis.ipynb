{
 "cells": [
  {
   "cell_type": "markdown",
   "metadata": {},
   "source": [
    "# Intermediate Level: Statistical Analysis of DEI in Music Industry\n",
    "\n",
    "Welcome to the intermediate workshop on DEI in the music industry! This notebook builds on the beginner level with more advanced statistical analysis and visualization techniques.\n",
    "\n",
    "## Learning Objectives:\n",
    "- Perform statistical tests to identify significant differences\n",
    "- Create advanced visualizations with multiple variables\n",
    "- Analyze correlation patterns in the data\n",
    "- Apply grouping and aggregation techniques\n",
    "- Understand confidence intervals and statistical significance\n",
    "\n",
    "## Prerequisites:\n",
    "You should have completed the beginner level or be familiar with basic pandas and matplotlib operations."
   ]
  },
  {
   "cell_type": "code",
   "execution_count": null,
   "metadata": {},
   "outputs": [],
   "source": [
    "# Import necessary libraries\n",
    "import pandas as pd\n",
    "import numpy as np\n",
    "import matplotlib.pyplot as plt\n",
    "import seaborn as sns\n",
    "from scipy import stats\n",
    "import plotly.express as px\n",
    "import plotly.graph_objects as go\n",
    "from plotly.subplots import make_subplots\n",
    "\n",
    "# Set up plotting style\n",
    "plt.style.use('default')\n",
    "sns.set_palette(\"Set2\")\n",
    "plt.rcParams['figure.figsize'] = (12, 8)\n",
    "\n",
    "print(\"Libraries imported successfully!\")"
   ]
  },
  {
   "cell_type": "code",
   "execution_count": null,
   "metadata": {},
   "outputs": [],
   "source": [
    "# Load the dataset\n",
    "df = pd.read_csv('../data/music_industry_dei_data.csv')\n",
    "\n",
    "print(f\"Dataset loaded: {df.shape[0]} artists, {df.shape[1]} features\")\n",
    "df.head()"
   ]
  },
  {
   "cell_type": "markdown",
   "metadata": {},
   "source": [
    "## Advanced Demographic Analysis\n",
    "\n",
    "Let's create more sophisticated visualizations that show multiple dimensions of our data simultaneously."
   ]
  },
  {
   "cell_type": "code",
   "execution_count": null,
   "metadata": {},
   "outputs": [],
   "source": [
    "# Create a comprehensive demographic overview\n",
    "fig, axes = plt.subplots(2, 2, figsize=(15, 12))\n",
    "\n",
    "# Gender distribution\n",
    "df['gender'].value_counts().plot(kind='pie', ax=axes[0,0], autopct='%1.1f%%')\n",
    "axes[0,0].set_title('Gender Distribution')\n",
    "axes[0,0].set_ylabel('')\n",
    "\n",
    "# Ethnicity distribution\n",
    "df['ethnicity'].value_counts().plot(kind='bar', ax=axes[0,1])\n",
    "axes[0,1].set_title('Ethnicity Distribution')\n",
    "axes[0,1].tick_params(axis='x', rotation=45)\n",
    "\n",
    "# Label type by gender\n",
    "pd.crosstab(df['gender'], df['label_type']).plot(kind='bar', ax=axes[1,0], stacked=True)\n",
    "axes[1,0].set_title('Label Type by Gender')\n",
    "axes[1,0].tick_params(axis='x', rotation=0)\n",
    "\n",
    "# Genre diversity\n",
    "top_genres = df['genre'].value_counts().head(8)\n",
    "top_genres.plot(kind='bar', ax=axes[1,1])\n",
    "axes[1,1].set_title('Top 8 Genres')\n",
    "axes[1,1].tick_params(axis='x', rotation=45)\n",
    "\n",
    "plt.tight_layout()\n",
    "plt.show()"
   ]
  },
  {
   "cell_type": "markdown",
   "metadata": {},
   "source": [
    "## Statistical Testing for Gender Differences\n",
    "\n",
    "Let's perform statistical tests to determine if there are significant differences in success metrics between genders."
   ]
  },
  {
   "cell_type": "code",
   "execution_count": null,
   "metadata": {},
   "outputs": [],
   "source": [
    "# Separate data by gender\n",
    "male_artists = df[df['gender'] == 'Male']\n",
    "female_artists = df[df['gender'] == 'Female']\n",
    "\n",
    "print(f\"Male artists: {len(male_artists)}\")\n",
    "print(f\"Female artists: {len(female_artists)}\")\n",
    "\n",
    "# Statistical tests for different metrics\n",
    "metrics = ['monthly_listeners', 'total_streams', 'spotify_followers', 'soundcloud_followers', 'award_wins']\n",
    "\n",
    "results = []\n",
    "for metric in metrics:\n",
    "    male_values = male_artists[metric]\n",
    "    female_values = female_artists[metric]\n",
    "    \n",
    "    # Perform t-test\n",
    "    statistic, p_value = stats.ttest_ind(male_values, female_values)\n",
    "    \n",
    "    # Calculate means\n",
    "    male_mean = male_values.mean()\n",
    "    female_mean = female_values.mean()\n",
    "    \n",
    "    results.append({\n",
    "        'Metric': metric,\n",
    "        'Male_Mean': male_mean,\n",
    "        'Female_Mean': female_mean,\n",
    "        'T_Statistic': statistic,\n",
    "        'P_Value': p_value,\n",
    "        'Significant': 'Yes' if p_value < 0.05 else 'No'\n",
    "    })\n",
    "\n",
    "results_df = pd.DataFrame(results)\n",
    "print(\"Statistical Test Results (Male vs Female):\")\n",
    "print(results_df.round(4))"
   ]
  },
  {
   "cell_type": "code",
   "execution_count": null,
   "metadata": {},
   "outputs": [],
   "source": [
    "# Visualize the differences with box plots\n",
    "fig, axes = plt.subplots(2, 3, figsize=(18, 12))\n",
    "axes = axes.flatten()\n",
    "\n",
    "for i, metric in enumerate(metrics):\n",
    "    sns.boxplot(data=df, x='gender', y=metric, ax=axes[i])\n",
    "    axes[i].set_title(f'{metric.replace(\"_\", \" \").title()} by Gender')\n",
    "    axes[i].tick_params(axis='y', which='major', labelsize=8)\n",
    "    \n",
    "    # Add statistical significance annotation\n",
    "    p_val = results_df[results_df['Metric'] == metric]['P_Value'].iloc[0]\n",
    "    if p_val < 0.001:\n",
    "        sig_text = 'p < 0.001***'\n",
    "    elif p_val < 0.01:\n",
    "        sig_text = 'p < 0.01**'\n",
    "    elif p_val < 0.05:\n",
    "        sig_text = 'p < 0.05*'\n",
    "    else:\n",
    "        sig_text = f'p = {p_val:.3f} (ns)'\n",
    "    \n",
    "    axes[i].text(0.5, 0.95, sig_text, transform=axes[i].transAxes, \n",
    "                ha='center', va='top', fontsize=10, \n",
    "                bbox=dict(boxstyle='round', facecolor='wheat', alpha=0.8))\n",
    "\n",
    "# Remove the empty subplot\n",
    "fig.delaxes(axes[5])\n",
    "\n",
    "plt.tight_layout()\n",
    "plt.show()"
   ]
  },
  {
   "cell_type": "markdown",
   "metadata": {},
   "source": [
    "## Correlation Analysis\n",
    "\n",
    "Let's examine correlations between different success metrics and demographic factors."
   ]
  },
  {
   "cell_type": "code",
   "execution_count": null,
   "metadata": {},
   "outputs": [],
   "source": [
    "# Select numeric columns for correlation analysis\n",
    "numeric_cols = ['monthly_listeners', 'total_streams', 'album_count', 'years_active', \n",
    "                'award_wins', 'spotify_followers', 'soundcloud_followers']\n",
    "\n",
    "# Calculate correlation matrix\n",
    "correlation_matrix = df[numeric_cols].corr()\n",
    "\n",
    "# Create heatmap\n",
    "plt.figure(figsize=(12, 10))\n",
    "mask = np.triu(np.ones_like(correlation_matrix, dtype=bool))\n",
    "sns.heatmap(correlation_matrix, mask=mask, annot=True, cmap='RdBu_r', center=0,\n",
    "            square=True, linewidths=0.5, cbar_kws={\"shrink\": .8})\n",
    "plt.title('Correlation Matrix of Success Metrics')\n",
    "plt.tight_layout()\n",
    "plt.show()\n",
    "\n",
    "# Find strongest correlations\n",
    "corr_pairs = []\n",
    "for i in range(len(correlation_matrix.columns)):\n",
    "    for j in range(i+1, len(correlation_matrix.columns)):\n",
    "        corr_pairs.append({\n",
    "            'Variable 1': correlation_matrix.columns[i],\n",
    "            'Variable 2': correlation_matrix.columns[j],\n",
    "            'Correlation': correlation_matrix.iloc[i, j]\n",
    "        })\n",
    "\n",
    "corr_df = pd.DataFrame(corr_pairs).sort_values('Correlation', key=abs, ascending=False)\n",
    "print(\"\\nStrongest Correlations:\")\n",
    "print(corr_df.head(10))"
   ]
  },
  {
   "cell_type": "markdown",
   "metadata": {},
   "source": [
    "## Interactive Visualizations with Plotly\n",
    "\n",
    "Let's create interactive visualizations to explore multiple dimensions of the data."
   ]
  },
  {
   "cell_type": "code",
   "execution_count": null,
   "metadata": {},
   "outputs": [],
   "source": [
    "# Interactive scatter plot: Monthly Listeners vs Total Streams\n",
    "fig = px.scatter(df, x='monthly_listeners', y='total_streams',\n",
    "                 color='gender', symbol='ethnicity', size='award_wins',\n",
    "                 hover_data=['artist_name', 'genre', 'country', 'label_type'],\n",
    "                 title='Monthly Listeners vs Total Streams (Interactive)',\n",
    "                 labels={'monthly_listeners': 'Monthly Listeners',\n",
    "                        'total_streams': 'Total Streams'})\n",
    "\n",
    "fig.update_layout(height=600, width=900)\n",
    "fig.show()\n",
    "\n",
    "print(\"Hover over points to see artist details!\")"
   ]
  },
  {
   "cell_type": "code",
   "execution_count": null,
   "metadata": {},
   "outputs": [],
   "source": [
    "# Interactive bar chart: Success metrics by ethnicity\n",
    "ethnicity_stats = df.groupby('ethnicity').agg({\n",
    "    'monthly_listeners': 'mean',\n",
    "    'total_streams': 'mean',\n",
    "    'award_wins': 'mean',\n",
    "    'spotify_followers': 'mean'\n",
    "}).reset_index()\n",
    "\n",
    "fig = make_subplots(rows=2, cols=2, \n",
    "                    subplot_titles=('Average Monthly Listeners', 'Average Total Streams',\n",
    "                                  'Average Award Wins', 'Average Spotify Followers'),\n",
    "                    vertical_spacing=0.12)\n",
    "\n",
    "# Add traces for each metric\n",
    "fig.add_trace(go.Bar(x=ethnicity_stats['ethnicity'], y=ethnicity_stats['monthly_listeners'],\n",
    "                     name='Monthly Listeners'), row=1, col=1)\n",
    "\n",
    "fig.add_trace(go.Bar(x=ethnicity_stats['ethnicity'], y=ethnicity_stats['total_streams'],\n",
    "                     name='Total Streams'), row=1, col=2)\n",
    "\n",
    "fig.add_trace(go.Bar(x=ethnicity_stats['ethnicity'], y=ethnicity_stats['award_wins'],\n",
    "                     name='Award Wins'), row=2, col=1)\n",
    "\n",
    "fig.add_trace(go.Bar(x=ethnicity_stats['ethnicity'], y=ethnicity_stats['spotify_followers'],\n",
    "                     name='Spotify Followers'), row=2, col=2)\n",
    "\n",
    "fig.update_layout(height=800, title_text=\"Success Metrics by Ethnicity (Interactive)\", \n",
    "                 showlegend=False)\n",
    "fig.show()"
   ]
  },
  {
   "cell_type": "markdown",
   "metadata": {},
   "source": [
    "## Genre Analysis by Demographics\n",
    "\n",
    "Let's analyze how different demographic groups are represented across music genres."
   ]
  },
  {
   "cell_type": "code",
   "execution_count": null,
   "metadata": {},
   "outputs": [],
   "source": [
    "# Create genre-demographic analysis\n",
    "genre_demo = df.groupby(['genre', 'gender', 'ethnicity']).size().reset_index(name='count')\n",
    "genre_totals = df.groupby('genre').size().reset_index(name='total')\n",
    "genre_demo = genre_demo.merge(genre_totals, on='genre')\n",
    "genre_demo['percentage'] = (genre_demo['count'] / genre_demo['total']) * 100\n",
    "\n",
    "# Focus on top genres\n",
    "top_genres = df['genre'].value_counts().head(6).index\n",
    "genre_demo_filtered = genre_demo[genre_demo['genre'].isin(top_genres)]\n",
    "\n",
    "# Create heatmap for gender representation across genres\n",
    "gender_genre = df[df['genre'].isin(top_genres)].groupby(['genre', 'gender']).size().unstack(fill_value=0)\n",
    "gender_genre_pct = gender_genre.div(gender_genre.sum(axis=1), axis=0) * 100\n",
    "\n",
    "plt.figure(figsize=(10, 6))\n",
    "sns.heatmap(gender_genre_pct, annot=True, fmt='.1f', cmap='RdYlBu_r', \n",
    "            cbar_kws={'label': 'Percentage'})\n",
    "plt.title('Gender Representation Across Top Genres (%)')\n",
    "plt.xlabel('Gender')\n",
    "plt.ylabel('Genre')\n",
    "plt.tight_layout()\n",
    "plt.show()\n",
    "\n",
    "print(\"\\nGender Distribution by Genre (Raw Numbers):\")\n",
    "print(gender_genre)"
   ]
  },
  {
   "cell_type": "code",
   "execution_count": null,
   "metadata": {},
   "outputs": [],
   "source": [
    "# Ethnicity representation across genres\n",
    "ethnicity_genre = df[df['genre'].isin(top_genres)].groupby(['genre', 'ethnicity']).size().unstack(fill_value=0)\n",
    "ethnicity_genre_pct = ethnicity_genre.div(ethnicity_genre.sum(axis=1), axis=0) * 100\n",
    "\n",
    "plt.figure(figsize=(12, 8))\n",
    "sns.heatmap(ethnicity_genre_pct, annot=True, fmt='.1f', cmap='viridis', \n",
    "            cbar_kws={'label': 'Percentage'})\n",
    "plt.title('Ethnic Representation Across Top Genres (%)')\n",
    "plt.xlabel('Ethnicity')\n",
    "plt.ylabel('Genre')\n",
    "plt.tight_layout()\n",
    "plt.show()\n",
    "\n",
    "print(\"\\nEthnicity Distribution by Genre (Raw Numbers):\")\n",
    "print(ethnicity_genre)"
   ]
  },
  {
   "cell_type": "markdown",
   "metadata": {},
   "source": [
    "## Success Gap Analysis\n",
    "\n",
    "Let's quantify success gaps between different demographic groups."
   ]
  },
  {
   "cell_type": "code",
   "execution_count": null,
   "metadata": {},
   "outputs": [],
   "source": [
    "# Calculate success gaps\n",
    "def calculate_gaps(df, group_col, metric_cols):\n",
    "    \"\"\"Calculate success gaps between groups for given metrics\"\"\"\n",
    "    gaps = {}\n",
    "    group_means = df.groupby(group_col)[metric_cols].mean()\n",
    "    \n",
    "    for metric in metric_cols:\n",
    "        max_val = group_means[metric].max()\n",
    "        min_val = group_means[metric].min()\n",
    "        gaps[f'{metric}_gap_ratio'] = max_val / min_val if min_val > 0 else np.inf\n",
    "        gaps[f'{metric}_gap_absolute'] = max_val - min_val\n",
    "    \n",
    "    return gaps, group_means\n",
    "\n",
    "success_metrics = ['monthly_listeners', 'total_streams', 'spotify_followers', 'award_wins']\n",
    "\n",
    "# Gender gaps\n",
    "gender_gaps, gender_means = calculate_gaps(df, 'gender', success_metrics)\n",
    "print(\"SUCCESS GAPS BY GENDER:\")\n",
    "print(\"Group Averages:\")\n",
    "print(gender_means[success_metrics].round(0))\n",
    "print(\"\\nGap Ratios (Max/Min):\")\n",
    "for metric in success_metrics:\n",
    "    print(f\"{metric}: {gender_gaps[f'{metric}_gap_ratio']:.2f}x\")\n",
    "\n",
    "print(\"\\n\" + \"=\"*50 + \"\\n\")\n",
    "\n",
    "# Ethnicity gaps\n",
    "ethnicity_gaps, ethnicity_means = calculate_gaps(df, 'ethnicity', success_metrics)\n",
    "print(\"SUCCESS GAPS BY ETHNICITY:\")\n",
    "print(\"Group Averages:\")\n",
    "print(ethnicity_means[success_metrics].round(0))\n",
    "print(\"\\nGap Ratios (Max/Min):\")\n",
    "for metric in success_metrics:\n",
    "    print(f\"{metric}: {ethnicity_gaps[f'{metric}_gap_ratio']:.2f}x\")"
   ]
  },
  {
   "cell_type": "markdown",
   "metadata": {},
   "source": [
    "## Advanced Statistical Analysis: ANOVA\n",
    "\n",
    "Let's perform Analysis of Variance (ANOVA) to test if there are significant differences across multiple groups."
   ]
  },
  {
   "cell_type": "code",
   "execution_count": null,
   "metadata": {},
   "outputs": [],
   "source": [
    "# ANOVA test for ethnicity differences\n",
    "ethnicity_groups = [group['monthly_listeners'].values for name, group in df.groupby('ethnicity')]\n",
    "f_stat, p_value = stats.f_oneway(*ethnicity_groups)\n",
    "\n",
    "print(f\"ANOVA Test - Monthly Listeners by Ethnicity:\")\n",
    "print(f\"F-statistic: {f_stat:.4f}\")\n",
    "print(f\"P-value: {p_value:.4f}\")\n",
    "print(f\"Significant difference: {'Yes' if p_value < 0.05 else 'No'}\")\n",
    "\n",
    "# Post-hoc analysis using confidence intervals\n",
    "print(\"\\nConfidence Intervals for Monthly Listeners by Ethnicity:\")\n",
    "for ethnicity in df['ethnicity'].unique():\n",
    "    subset = df[df['ethnicity'] == ethnicity]['monthly_listeners']\n",
    "    mean = subset.mean()\n",
    "    sem = stats.sem(subset)\n",
    "    ci = stats.t.interval(0.95, len(subset)-1, loc=mean, scale=sem)\n",
    "    print(f\"{ethnicity}: {mean:,.0f} [{ci[0]:,.0f}, {ci[1]:,.0f}]\")"
   ]
  },
  {
   "cell_type": "markdown",
   "metadata": {},
   "source": [
    "## Key Statistical Insights\n",
    "\n",
    "Based on your statistical analysis, document your findings:"
   ]
  },
  {
   "cell_type": "markdown",
   "metadata": {},
   "source": [
    "### Your Statistical Insights:\n",
    "\n",
    "1. **Gender Differences**: [Interpret the t-test results and what they mean for gender equity]\n",
    "\n",
    "2. **Strongest Correlations**: [Discuss the most significant correlations you found]\n",
    "\n",
    "3. **Genre Representation**: [Analyze patterns in demographic representation across genres]\n",
    "\n",
    "4. **Success Gaps**: [Interpret the gap ratios and what they suggest about equity]\n",
    "\n",
    "5. **Statistical Significance**: [Discuss which differences are statistically significant and their practical implications]\n",
    "\n",
    "6. **Limitations**: [Consider limitations of this analysis and what additional data might help]"
   ]
  },
  {
   "cell_type": "markdown",
   "metadata": {},
   "source": [
    "## Next Steps\n",
    "\n",
    "Excellent work! You've completed intermediate-level statistical analysis including:\n",
    "\n",
    "- Statistical hypothesis testing\n",
    "- Correlation analysis\n",
    "- Interactive visualizations\n",
    "- Success gap quantification\n",
    "- ANOVA testing\n",
    "- Confidence intervals\n",
    "\n",
    "### Ready for the advanced level?\n",
    "Move on to the **Advanced Level** notebook for machine learning approaches, predictive modeling, and advanced statistical techniques!"
   ]
  }
 ],
 "metadata": {
  "kernelspec": {
   "display_name": "Python 3",
   "language": "python",
   "name": "python3"
  },
  "language_info": {
   "codemirror_mode": {
    "name": "ipython",
    "version": 3
   },
   "file_extension": ".py",
   "mimetype": "text/x-python",
   "name": "python",
   "nbconvert_exporter": "python",
   "pygments_lexer": "ipython3",
   "version": "3.8.5"
  }
 },
 "nbformat": 4,
 "nbformat_minor": 4
}