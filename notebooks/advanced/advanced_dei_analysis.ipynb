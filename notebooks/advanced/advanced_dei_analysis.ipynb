{
 "cells": [
  {
   "cell_type": "markdown",
   "metadata": {},
   "source": [
    "# Advanced Level: Statistical Analysis of DEI in Music Industry\n",
    "\n",
    "Welcome to the advanced workshop on DEI in the music industry! This notebook is an extension of the intermediate workshop with more advanced analysis and visualization techniques.\n",
    "\n",
    "## Learning Objectives:\n",
    "- Understand the importance of DEI and how it affects the music industry\n",
    "- Create advanced visualizations with multiple variables\n",
    "- Analyze correlation patterns in the data\n",
    "- Apply grouping and aggregation techniques\n",
    "- Combine multiple datasets"
   ]
  },
  {
   "cell_type": "markdown",
   "metadata": {},
   "source": [
    "## 🚀 Getting Started\n",
    "Let's start by importing the libraries we'll need and loading our data."
   ]
  },
  {
   "cell_type": "code",
   "execution_count": null,
   "metadata": {
    "ExecuteTime": {
     "end_time": "2025-10-17T08:04:05.377530Z",
     "start_time": "2025-10-17T08:04:05.352286Z"
    }
   },
   "outputs": [],
   "source": [
    "# Enable inline plots\n",
    "%matplotlib inline\n",
    "# Import necessary libraries\n",
    "import pandas as pd\n",
    "import numpy as np\n",
    "import matplotlib.pyplot as plt\n",
    "import seaborn as sns\n",
    "from scipy import stats\n",
    "import plotly.express as px\n",
    "import plotly.graph_objects as go\n",
    "from plotly.subplots import make_subplots\n",
    "\n",
    "# Set up plotting style\n",
    "plt.style.use('default')\n",
    "sns.set_palette(\"Set2\")\n",
    "plt.rcParams['figure.figsize'] = (12, 8)\n",
    "\n",
    "print(\"Libraries imported successfully!\")"
   ]
  },
  {
   "cell_type": "markdown",
   "metadata": {
    "ExecuteTime": {
     "end_time": "2025-10-17T08:12:22.162384Z",
     "start_time": "2025-10-17T08:12:22.157191Z"
    }
   },
   "source": [
    "## 📂 Load the Dataset\n",
    "\n",
    "We have 5 datasets to work with:\n",
    "* 4 datasets which contains listening stats for a different (anonymized) genre (a.k.a the \"listeners datasets\")\n",
    "* 1 datasets which contains engagement stats for all genres (a.k.a the \"comments dataset\")\n",
    "\n",
    "In addition, we have a legend describing the columns."
   ]
  },
  {
   "cell_type": "code",
   "execution_count": 2,
   "metadata": {
    "ExecuteTime": {
     "end_time": "2025-10-20T20:29:05.101165Z",
     "start_time": "2025-10-20T20:29:04.994955Z"
    }
   },
   "outputs": [],
   "source": [
    "# Explicitly list the 4 dataset files\n",
    "# 💡 Store the file paths in a list called data_files.\n",
    "# 📖 Docs: Working with file paths in Python: https://docs.python.org/3/library/os.path.html\n",
    "data_files = [\n",
    "    \"../../data/1 Creators and their Listeners with gender and 6 locations.csv\",\n",
    "    \"../../data/2 Creators and their Listeners with gender and 6 locations.csv\",\n",
    "    \"../../data/3 Creators and their Listeners with gender and 6 locations.csv\",\n",
    "    \"../../data/5 Creators and their Listeners with gender and 6 locations.csv\"\n",
    "]\n",
    "\n",
    "# Load all datasets into a dictionary\n",
    "# 💡 Reading the csv file for each data set above\n",
    "# 📖 Docs: Reading CSV files with pandas: https://pandas.pydata.org/docs/reference/api/pandas.read_csv.html\n",
    "datasets = {}\n",
    "for i, file in enumerate(data_files):\n",
    "    name = f\"Genre {i+1}\"\n",
    "    datasets[name] = pd.read_csv(file)\n",
    "\n",
    "\n",
    "# Load comments dataset\n",
    "comments_data = pd.read_csv(\"../../data/creator and listener comments by gender and anonymised genre.csv\")\n",
    "\n",
    "# Load legend\n",
    "legend = pd.read_csv(\"../../data/legend.csv\")"
   ]
  },
  {
   "cell_type": "code",
   "execution_count": 3,
   "metadata": {},
   "outputs": [],
   "source": [
    "# Combine the listeners datasets per genre into one large dataset\n",
    "listeners_data = pd.concat(datasets.values()).reset_index(drop=True)"
   ]
  },
  {
   "cell_type": "markdown",
   "metadata": {},
   "source": [
    "## 🔍 Explore the Data\n",
    "Get familiarized with the listeners & comments datasets before jumping to the next step!\n",
    "- How does the data look like?\n",
    "- What are the columns? What do they represent?\n",
    "- What are the data types?\n",
    "- What are the missing values?\n",
    "- Are there any duplicates?\n",
    "\n",
    "Is there anything you would like to transform in the data?  (e.g. change data types, remove certain columns, rows, replace values, deal with null values etc.)"
   ]
  },
  {
   "cell_type": "code",
   "execution_count": null,
   "metadata": {
    "ExecuteTime": {
     "end_time": "2025-10-17T13:47:35.170695Z",
     "start_time": "2025-10-17T13:47:35.168317Z"
    }
   },
   "outputs": [],
   "source": [
    "# Explore how the Genre datasets look like\n",
    "## 🧐 Understand what the data represents\n",
    "## 🔍 Look up column descriptions in the legend\n",
    "## 📖 Docs: Helpful pandas methods can be: DataFrame.shape(), DataFrame.head(), DataFrame.tail(), DataFrame.describe(), DataFrame.columns\n",
    "## 📖 Docs: Check out this tutorial with a good overview of an initial data exploration & cleaning process: https://miamioh.edu/centers-institutes/center-for-analytics-data-science/students/coding-tutorials/python/data-cleaning.html\n"
   ]
  },
  {
   "cell_type": "code",
   "execution_count": null,
   "metadata": {},
   "outputs": [],
   "source": [
    "# Check for missing values.\n",
    "# 🧐 Which columns have missing values? What does the missing data represent?\n",
    "# 🔍 What do we want to do with it? we can drop the columns, fill the missing values or keep them as is. \n",
    "# 📖 Docs: You can find more information on how to work with missing data (e.g. drop it or fill it) here: https://pandas.pydata.org/docs/user_guide/missing_data.html\n",
    "\n"
   ]
  },
  {
   "cell_type": "code",
   "execution_count": null,
   "metadata": {},
   "outputs": [],
   "source": [
    "# Explore the categorial columns \"creator_gender\" and \"creator_signup_country\"\n",
    "# Hint: Series.value_counts() can be used to count values in one series\n"
   ]
  },
  {
   "cell_type": "code",
   "execution_count": null,
   "metadata": {
    "ExecuteTime": {
     "end_time": "2025-10-17T13:47:36.632656Z",
     "start_time": "2025-10-17T13:47:36.630299Z"
    }
   },
   "outputs": [],
   "source": [
    "# Explore how the comments dataset look like\n",
    "## 🧐Understand what the data represents\n",
    "## 🔍 Look up column descriptions in the legend\n"
   ]
  },
  {
   "cell_type": "code",
   "execution_count": 16,
   "metadata": {
    "ExecuteTime": {
     "end_time": "2025-10-17T13:47:37.581058Z",
     "start_time": "2025-10-17T13:47:37.578726Z"
    }
   },
   "outputs": [],
   "source": [
    "# 📊 Do any data transformations you consider necessary before jumping to the next step\n"
   ]
  },
  {
   "cell_type": "markdown",
   "metadata": {},
   "source": [
    "<details>\n",
    "<summary>Click here to get a brief overview of the different datasets</summary>\n",
    "\n",
    "**Listeners dataset:**\n",
    "- one row per creator\n",
    "- contains listening data from 4 different genres\n",
    "- creator gender (`creator_gender`)\n",
    "- genders represented: female, male, custom, unknown (NA)\n",
    "- countries represented: US, GB, DE, EG, BR, VN\n",
    "- `total_play_count` as an indicator of the popularity of the creator\n",
    "- `total_play_count_<gender>` as an indicator of the popularity of the creator among listener's gender\n",
    "- `total_play_count_<country>` as an indicator of the popularity of the creator in different countries\n",
    "- `plays_by_<gender>_<country>` and `pct_plays_by_<gender>_<countr>` as an indicator of the popularity of the creator among listener's genders and countries\n",
    "\n",
    "\n",
    "**Comments dataset:**\n",
    "- one row per genre\n",
    "- `new_comments_by_<gender>_creator` and `pct_new_comments_by_<gender>_creator` as an indicator for the commenting behavior of creators based on creator's gender\n",
    "- `total_new_creator_comment_count` displaying the total amount of new comments by creators in a genre\n",
    "- `listener_new_comment_count` as an indicator of the listeners commenting behavior\n",
    "- `responses_by_<gender>_creator` as an indicator for the responding behavior of creators of different based on creator's gender\n",
    "- `total_reponse_count` as an indicator of the response behavior in different genres\n",
    "- `total_responses_by_listener` as an indicator of the response behavior by listeners in different genres\n",
    "- `total_responses_by_creator` as an indicator of the response behavior by creators in different genres\n",
    "- `responses_by_<gender>_creator` as an indicator of the response behavior by creator's gender\n",
    "\n",
    "</details>\n",
    "\n"
   ]
  },
  {
   "cell_type": "markdown",
   "metadata": {},
   "source": [
    "Before moving on to the next step, we’d like to emphasize that this workshop is all about fostering creativity and having fun! Feel free to create additional visualizations whenever you feel they enhance your storytelling. Some of our favorite visualization types include:\n",
    "\n",
    "- Bar plots\n",
    "- Pie charts\n",
    "- Heatmaps\n",
    "- Scatter plots\n",
    "- Box plots\n",
    "- Sankey diagrams\n",
    "\n",
    "That said, you’re not limited to these options. Experiment and explore other visualization methods that align with your data and the story you want to convey!\n",
    "\n",
    "Check out the seaborn gallery if you need inspiration: https://seaborn.pydata.org/examples/index.html"
   ]
  },
  {
   "cell_type": "markdown",
   "metadata": {
    "ExecuteTime": {
     "end_time": "2025-10-17T13:09:08.970417Z",
     "start_time": "2025-10-17T13:09:08.968878Z"
    }
   },
   "source": [
    "## 🎧 Step 1: Creator-Listener Gender Dynamics\n",
    "*Let's investigate whether creator gender identity influences listener demographics and consumption patterns, establishing baseline understanding of potential gender-based preferences, biases, or barriers in music discovery and consumption across genres and global markets.*"
   ]
  },
  {
   "cell_type": "markdown",
   "metadata": {},
   "source": [
    "### a) 📊 Overall Creator-Listener Gender Influence\n",
    "Let's examine the question of whether creator gender creates systematic patterns in listener demographics, identifying potential gender-based consumption biases that could impact creator visibility and success.\n",
    "\n",
    "- Do listeners show preferential consumption patterns based on creator gender?\n",
    "- How strong is the overall creator-listener gender correlation and what does this mean for equity?"
   ]
  },
  {
   "cell_type": "code",
   "execution_count": null,
   "metadata": {},
   "outputs": [],
   "source": [
    "# Before we dive into the detailed gender dynamics in this dataset, let's first check out the overall distribution of creator genders and plays in this dataset\n",
    "# 💡 Boxplots can be nice to analyze categorical data and get an initial understanding\n",
    "sns.boxplot(data=listeners_data, x=\"total_play_count\", y=\"creator_gender\", showfliers=False, showmeans=True)"
   ]
  },
  {
   "cell_type": "code",
   "execution_count": null,
   "metadata": {
    "ExecuteTime": {
     "end_time": "2025-10-17T16:50:25.175087Z",
     "start_time": "2025-10-17T16:50:25.171502Z"
    }
   },
   "outputs": [],
   "source": [
    "# Calculate total listeners gender proportions by creator gender\n",
    "\n"
   ]
  },
  {
   "cell_type": "code",
   "execution_count": 35,
   "metadata": {},
   "outputs": [],
   "source": [
    "# Visualize the results (use the plots you find most appropriate)\n",
    "# 💡: DataFrame.melt() can help to change the format of the dataframe: https://pandas.pydata.org/docs/reference/api/pandas.DataFrame.melt.html#pandas-dataframe-melt\n"
   ]
  },
  {
   "cell_type": "markdown",
   "metadata": {},
   "source": [
    "### b) 📚 Creator-Listener Gender Influence by Genre\n",
    "We'll analyze how musical genres may amplify or mitigate gender-based listening patterns, identifying genres that promote cross-gender consumption versus those that may reinforce gender disparities.\n",
    "\n",
    "- Which genres demonstrate the highest cross-gender listening patterns?\n",
    "- Which genre show less visibility of different genders across creators and listeners?\n",
    "\n",
    "Idea: Look at the ratio of female creators to female listeners for each genre - a simple proxy for representation. "
   ]
  },
  {
   "cell_type": "code",
   "execution_count": null,
   "metadata": {},
   "outputs": [],
   "source": [
    "sns.countplot(data=listeners_data, x=\"most_uploaded_genre\", hue=\"creator_gender\")"
   ]
  },
  {
   "cell_type": "code",
   "execution_count": 46,
   "metadata": {},
   "outputs": [],
   "source": [
    "# For the representation ratios, we first calculate the percentage of plays by gender and creators by gender\n",
    "# 📖 Docs: Pandas grouping follows the \"split-apply-combine\" approach, which can be useful here to calculate the representation ratios\n",
    "#          You first start grouping by a set of columns, then apply multiple aggregations. \n",
    "#          Don't forget to call reset_index() at the end to combine it to a new dataset. \n",
    "#          https://pandas.pydata.org/docs/user_guide/groupby.html\n",
    "\n",
    "# Group the data and aggregate total play counts per gender\n",
    "representation_ratios = ... # Your code goes here\n",
    "\n",
    "# Calculate the representation ratios  for the creator and all different genders\n",
    "representation_ratios['creator_ratio'] = ... \n"
   ]
  },
  {
   "cell_type": "code",
   "execution_count": null,
   "metadata": {},
   "outputs": [],
   "source": [
    "# Visualize the results\n",
    "# 💡 It can be useful to reshape the data for visualization using DataFrame.melted()\n",
    "# 💡 sns.catplot allows you to create categorical plots, see documentation for more info: https://seaborn.pydata.org/generated/seaborn.catplot.html \n"
   ]
  },
  {
   "cell_type": "markdown",
   "metadata": {},
   "source": [
    "### c) 🌍 Creator-Listener Gender Influence by Country\n",
    "This analysis will reveal how cultural contexts and regional attitudes influence creator-listener gender dynamics.\n",
    "\n",
    "- Do certain countries show more equitable cross-gender listening patterns?\n",
    "- How does gender diversity of creators change in the different markets?\n",
    "\n",
    "Idea: Here we can again have a look at the ratio of creators in a country to listeners in one country for each genre. "
   ]
  },
  {
   "cell_type": "code",
   "execution_count": null,
   "metadata": {},
   "outputs": [],
   "source": [
    "# Before we dive into the detailed country representations in this dataset, let's first check out the overall distribution of creator's country and plays in this dataset\n",
    "# 💡 Boxplots can be nice to analyze categorical data and get an initial understanding\n"
   ]
  },
  {
   "cell_type": "code",
   "execution_count": null,
   "metadata": {},
   "outputs": [],
   "source": [
    "# Calculate Creator gender distribution (how many male/female/custom/null creators per country) \\\n",
    "# Optional: you can include the genre too\n",
    "\n",
    "\n",
    "# Calculate Listener gender % by creator gender per country of the listener (optional: and genre)\n",
    "\n",
    "\n",
    "# Calculate Listener gender % by creator gender per country of the creator (optional: and genre)\n"
   ]
  },
  {
   "cell_type": "code",
   "execution_count": 92,
   "metadata": {},
   "outputs": [],
   "source": [
    "# For the representation ratios, we first calculate the percentage of plays by country and creators by country\n",
    "# 📖 Docs: Pandas grouping follows the \"split-apply-combine\" approach, which can be useful here to calculate the representation ratios\n",
    "#          You first start grouping by a set of columns, then apply multiple aggregations. \n",
    "#          Don't forget to call reset_index() at the end to combine it to a new dataset. \n",
    "#          https://pandas.pydata.org/docs/user_guide/groupby.html\n",
    "\n",
    "COUNTRY_VALUES = [\"BR\", \"DE\", \"EG\", \"GB\", \"US\", \"VN\"]\n"
   ]
  },
  {
   "cell_type": "code",
   "execution_count": null,
   "metadata": {},
   "outputs": [],
   "source": [
    "# Visualization time!\n"
   ]
  },
  {
   "cell_type": "markdown",
   "metadata": {},
   "source": [
    "## 💬 Step 2 (Optional): Creator Engagement Equity Analysis\n",
    "*Let's analyze gender representation and inclusive participation patterns in creator-driven community engagement, identifying barriers to equitable voice and participation opportunities across gender identities and musical genres.*"
   ]
  },
  {
   "cell_type": "markdown",
   "metadata": {},
   "source": [
    "### a) 👥 Gender Equity in Creators' Engagement\n",
    "Let's analyze whether there are equitable participation opportunities across creator genders and identify any barriers to engagement that may disproportionately affect certain gender groups.\n",
    "- Do all creator genders have equal representation in platform engagement?\n",
    "- How do you think gender identity impacts creator engagement opportunities?\n",
    "\n",
    "💡 If you need a refresher of the comments dataset, have an additional look at your dataset and start with simple visualizations of the distributions represented in the dataset.\n",
    "\n",
    "💡 For the genres 1,2,3,5 you have additional listening statistics in the listeners dataset. These genres are also in the top 5 of the genres with most listener comments. "
   ]
  },
  {
   "cell_type": "code",
   "execution_count": null,
   "metadata": {},
   "outputs": [],
   "source": [
    "# Find out which creators' genders are more active commenters (as new commenters) across all genres\n"
   ]
  },
  {
   "cell_type": "code",
   "execution_count": null,
   "metadata": {},
   "outputs": [],
   "source": [
    "# Visualization time!\n"
   ]
  },
  {
   "cell_type": "code",
   "execution_count": null,
   "metadata": {},
   "outputs": [],
   "source": [
    "# Find out which creators' genders are more active responders across genres\n"
   ]
  },
  {
   "cell_type": "markdown",
   "metadata": {
    "ExecuteTime": {
     "end_time": "2025-10-17T12:50:25.302171Z",
     "start_time": "2025-10-17T12:50:25.299551Z"
    }
   },
   "source": [
    "### b) 🎧 Engagements vs Creator Equity Gap Analysis\n",
    "Let's have a detailed look at the 4 genres for which we also have listeners data and examine which genders are represented in which gender and how this ratio compares to the engagement ratio per gender."
   ]
  },
  {
   "cell_type": "markdown",
   "metadata": {},
   "source": [
    "For this section, we combine both datasets: listeners data and comments data. For this, we first reduce the comments data to the 4 genres for which we also have listeners data."
   ]
  },
  {
   "cell_type": "code",
   "execution_count": null,
   "metadata": {},
   "outputs": [],
   "source": [
    "# Select subset of comments dataset for genres 1,2,3,5\n"
   ]
  },
  {
   "cell_type": "code",
   "execution_count": null,
   "metadata": {},
   "outputs": [],
   "source": [
    "# To put the engagement data into perspective, we first calculate the listening statistics per genre (or reuse them from an earlier section)\n"
   ]
  },
  {
   "cell_type": "code",
   "execution_count": 53,
   "metadata": {},
   "outputs": [],
   "source": [
    "# let's merge both datasets\n",
    "# Docs: https://pandas.pydata.org/docs/user_guide/merging.html#merge-join-concatenate-and-compare \n"
   ]
  },
  {
   "cell_type": "code",
   "execution_count": null,
   "metadata": {},
   "outputs": [],
   "source": [
    "# Visualization time!\n"
   ]
  },
  {
   "cell_type": "markdown",
   "metadata": {
    "ExecuteTime": {
     "end_time": "2025-10-17T16:24:42.663691Z",
     "start_time": "2025-10-17T16:24:42.658472Z"
    }
   },
   "source": [
    "## 💡 Key Insights\n",
    "\n",
    "Based on your analysis above, write down 3-5 key insights you've discovered about DEI in the music industry:"
   ]
  },
  {
   "cell_type": "markdown",
   "metadata": {},
   "source": [
    "### Your Insights:\n",
    "\n",
    "1. **Gender Representation**: [Write your observation about gender distribution among creators and listeners]\n",
    "\n",
    "2. **Listener Diversity by Country**: [Write your observation about how listener demographics differ across countries]\n",
    "\n",
    "3. **Genre-Specific Trends**: [Write your observation about differences across genres]\n",
    "\n",
    "4. **Data Limitations & Biases**: [Write your observation about missing or anonymized data and its implications]\n",
    "\n",
    "5. **Additional Insight**: [Any other pattern you noticed]"
   ]
  },
  {
   "cell_type": "markdown",
   "metadata": {},
   "source": [
    "## Next Steps\n",
    "\n",
    "Excellent work! You've completed advanced-level statistical analysis including:\n",
    "\n",
    "- Extracting insights from data related to creators and listeners in the music industry.\n",
    "- Visualizing relationships and patterns within the data to uncover the underlying patterns."
   ]
  },
  {
   "cell_type": "markdown",
   "metadata": {},
   "source": []
  }
 ],
 "metadata": {
  "kernelspec": {
   "display_name": ".venv",
   "language": "python",
   "name": "python3"
  },
  "language_info": {
   "codemirror_mode": {
    "name": "ipython",
    "version": 3
   },
   "file_extension": ".py",
   "mimetype": "text/x-python",
   "name": "python",
   "nbconvert_exporter": "python",
   "pygments_lexer": "ipython3",
   "version": "3.13.7"
  }
 },
 "nbformat": 4,
 "nbformat_minor": 4
}
