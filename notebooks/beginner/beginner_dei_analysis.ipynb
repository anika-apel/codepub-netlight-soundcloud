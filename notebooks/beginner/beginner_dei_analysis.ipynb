{
 "cells": [
  {
   "cell_type": "markdown",
   "metadata": {},
   "source": [
    "# Beginner Level: Exploring DEI in the Music Industry\n",
    "\n",
    "Welcome to the beginner workshop on Diversity, Equity, and Inclusion (DEI) in the music industry! This notebook will guide you through basic data exploration and visualization techniques.\n",
    "\n",
    "## Learning Objectives:\n",
    "- Load and explore a dataset about music artists\n",
    "- Understand basic demographics in the music industry\n",
    "- Create simple visualizations to identify patterns\n",
    "- Calculate basic statistics about representation\n",
    "\n",
    "## Getting Started\n",
    "Let's start by importing the libraries we'll need and loading our data."
   ]
  },
  {
   "cell_type": "code",
   "execution_count": null,
   "metadata": {},
   "outputs": [],
   "source": [
    "# Import necessary libraries\n",
    "import pandas as pd\n",
    "import matplotlib.pyplot as plt\n",
    "import seaborn as sns\n",
    "\n",
    "# Set up plotting style\n",
    "plt.style.use('default')\n",
    "sns.set_palette(\"husl\")\n",
    "\n",
    "print(\"Libraries imported successfully!\")"
   ]
  },
  {
   "cell_type": "markdown",
   "metadata": {},
   "source": [
    "## Load the Dataset\n",
    "\n",
    "Our dataset contains information about various music artists including their demographics, streaming numbers, and career information."
   ]
  },
  {
   "cell_type": "code",
   "execution_count": null,
   "metadata": {},
   "outputs": [],
   "source": [
    "# Load the dataset\n",
    "df = pd.read_csv('../data/music_industry_dei_data.csv')\n",
    "\n",
    "# Display basic information about the dataset\n",
    "print(f\"Dataset shape: {df.shape}\")\n",
    "print(f\"Columns: {list(df.columns)}\")\n",
    "print(\"\\nFirst few rows:\")\n",
    "df.head()"
   ]
  },
  {
   "cell_type": "markdown",
   "metadata": {},
   "source": [
    "## Basic Data Exploration\n",
    "\n",
    "Let's explore the basic structure of our data and understand what information we have."
   ]
  },
  {
   "cell_type": "code",
   "execution_count": null,
   "metadata": {},
   "outputs": [],
   "source": [
    "# Get basic information about the dataset\n",
    "print(\"Dataset Info:\")\n",
    "print(df.info())\n",
    "print(\"\\nBasic Statistics:\")\n",
    "print(df.describe())"
   ]
  },
  {
   "cell_type": "markdown",
   "metadata": {},
   "source": [
    "## Gender Representation\n",
    "\n",
    "Let's start by looking at gender representation in our dataset."
   ]
  },
  {
   "cell_type": "code",
   "execution_count": null,
   "metadata": {},
   "outputs": [],
   "source": [
    "# Count artists by gender\n",
    "gender_counts = df['gender'].value_counts()\n",
    "print(\"Gender Distribution:\")\n",
    "print(gender_counts)\n",
    "print(f\"\\nPercentages:\")\n",
    "print(gender_counts / len(df) * 100)"
   ]
  },
  {
   "cell_type": "code",
   "execution_count": null,
   "metadata": {},
   "outputs": [],
   "source": [
    "# Create a pie chart for gender distribution\n",
    "plt.figure(figsize=(8, 6))\n",
    "plt.pie(gender_counts.values, labels=gender_counts.index, autopct='%1.1f%%', startangle=90)\n",
    "plt.title('Gender Distribution in Music Industry Dataset')\n",
    "plt.axis('equal')\n",
    "plt.show()"
   ]
  },
  {
   "cell_type": "markdown",
   "metadata": {},
   "source": [
    "## Ethnic Diversity\n",
    "\n",
    "Now let's examine ethnic diversity in our dataset."
   ]
  },
  {
   "cell_type": "code",
   "execution_count": null,
   "metadata": {},
   "outputs": [],
   "source": [
    "# Count artists by ethnicity\n",
    "ethnicity_counts = df['ethnicity'].value_counts()\n",
    "print(\"Ethnicity Distribution:\")\n",
    "print(ethnicity_counts)\n",
    "print(f\"\\nPercentages:\")\n",
    "print(ethnicity_counts / len(df) * 100)"
   ]
  },
  {
   "cell_type": "code",
   "execution_count": null,
   "metadata": {},
   "outputs": [],
   "source": [
    "# Create a bar chart for ethnicity distribution\n",
    "plt.figure(figsize=(10, 6))\n",
    "ethnicity_counts.plot(kind='bar')\n",
    "plt.title('Ethnic Diversity in Music Industry Dataset')\n",
    "plt.xlabel('Ethnicity')\n",
    "plt.ylabel('Number of Artists')\n",
    "plt.xticks(rotation=45)\n",
    "plt.tight_layout()\n",
    "plt.show()"
   ]
  },
  {
   "cell_type": "markdown",
   "metadata": {},
   "source": [
    "## Success Metrics by Demographics\n",
    "\n",
    "Let's look at how success metrics (like monthly listeners) vary by demographics."
   ]
  },
  {
   "cell_type": "code",
   "execution_count": null,
   "metadata": {},
   "outputs": [],
   "source": [
    "# Average monthly listeners by gender\n",
    "avg_listeners_by_gender = df.groupby('gender')['monthly_listeners'].mean()\n",
    "print(\"Average Monthly Listeners by Gender:\")\n",
    "print(avg_listeners_by_gender)\n",
    "\n",
    "# Create a bar chart\n",
    "plt.figure(figsize=(8, 6))\n",
    "avg_listeners_by_gender.plot(kind='bar')\n",
    "plt.title('Average Monthly Listeners by Gender')\n",
    "plt.xlabel('Gender')\n",
    "plt.ylabel('Average Monthly Listeners')\n",
    "plt.xticks(rotation=0)\n",
    "plt.ticklabel_format(style='scientific', axis='y', scilimits=(0,0))\n",
    "plt.tight_layout()\n",
    "plt.show()"
   ]
  },
  {
   "cell_type": "code",
   "execution_count": null,
   "metadata": {},
   "outputs": [],
   "source": [
    "# Average monthly listeners by ethnicity\n",
    "avg_listeners_by_ethnicity = df.groupby('ethnicity')['monthly_listeners'].mean().sort_values(ascending=False)\n",
    "print(\"Average Monthly Listeners by Ethnicity:\")\n",
    "print(avg_listeners_by_ethnicity)\n",
    "\n",
    "# Create a bar chart\n",
    "plt.figure(figsize=(12, 6))\n",
    "avg_listeners_by_ethnicity.plot(kind='bar')\n",
    "plt.title('Average Monthly Listeners by Ethnicity')\n",
    "plt.xlabel('Ethnicity')\n",
    "plt.ylabel('Average Monthly Listeners')\n",
    "plt.xticks(rotation=45)\n",
    "plt.ticklabel_format(style='scientific', axis='y', scilimits=(0,0))\n",
    "plt.tight_layout()\n",
    "plt.show()"
   ]
  },
  {
   "cell_type": "markdown",
   "metadata": {},
   "source": [
    "## Label Type Analysis\n",
    "\n",
    "Let's examine how artists are distributed between major and independent labels, and how this relates to demographics."
   ]
  },
  {
   "cell_type": "code",
   "execution_count": null,
   "metadata": {},
   "outputs": [],
   "source": [
    "# Distribution of label types\n",
    "label_counts = df['label_type'].value_counts()\n",
    "print(\"Label Type Distribution:\")\n",
    "print(label_counts)\n",
    "print(f\"\\nPercentages:\")\n",
    "print(label_counts / len(df) * 100)"
   ]
  },
  {
   "cell_type": "code",
   "execution_count": null,
   "metadata": {},
   "outputs": [],
   "source": [
    "# Cross-tabulation: Gender vs Label Type\n",
    "gender_label_crosstab = pd.crosstab(df['gender'], df['label_type'], margins=True)\n",
    "print(\"Gender vs Label Type Cross-tabulation:\")\n",
    "print(gender_label_crosstab)\n",
    "\n",
    "# Percentage breakdown\n",
    "print(\"\\nPercentages (by row):\")\n",
    "print(pd.crosstab(df['gender'], df['label_type'], normalize='index') * 100)"
   ]
  },
  {
   "cell_type": "markdown",
   "metadata": {},
   "source": [
    "## Key Insights\n",
    "\n",
    "Based on your analysis above, write down 3-5 key insights you've discovered about DEI in the music industry:"
   ]
  },
  {
   "cell_type": "markdown",
   "metadata": {},
   "source": [
    "### Your Insights:\n",
    "\n",
    "1. **Gender Representation**: [Write your observation about gender distribution]\n",
    "\n",
    "2. **Ethnic Diversity**: [Write your observation about ethnic representation]\n",
    "\n",
    "3. **Success Patterns**: [Write your observation about success metrics across demographics]\n",
    "\n",
    "4. **Label Distribution**: [Write your observation about major vs independent label representation]\n",
    "\n",
    "5. **Additional Insight**: [Any other pattern you noticed]"
   ]
  },
  {
   "cell_type": "markdown",
   "metadata": {},
   "source": [
    "## Next Steps\n",
    "\n",
    "Congratulations! You've completed the beginner level analysis. You've learned how to:\n",
    "\n",
    "- Load and explore a dataset\n",
    "- Calculate basic statistics\n",
    "- Create visualizations to understand data patterns\n",
    "- Analyze representation across different demographics\n",
    "\n",
    "### Ready for more?\n",
    "Move on to the **Intermediate Level** notebook to dive deeper into statistical analysis and more advanced visualizations!"
   ]
  }
 ],
 "metadata": {
  "kernelspec": {
   "display_name": "Python 3",
   "language": "python",
   "name": "python3"
  },
  "language_info": {
   "codemirror_mode": {
    "name": "ipython",
    "version": 3
   },
   "file_extension": ".py",
   "mimetype": "text/x-python",
   "name": "python",
   "nbconvert_exporter": "python",
   "pygments_lexer": "ipython3",
   "version": "3.8.5"
  }
 },
 "nbformat": 4,
 "nbformat_minor": 4
}