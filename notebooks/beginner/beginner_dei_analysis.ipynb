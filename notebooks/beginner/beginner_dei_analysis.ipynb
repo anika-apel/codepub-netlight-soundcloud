{
 "cells": [
  {
   "cell_type": "markdown",
   "metadata": {},
   "source": [
    "# Beginner Level: Exploring DEI in the Music Industry\n",
    "\n",
    "Welcome to the beginner workshop on Diversity, Equity, and Inclusion (DEI) in the music industry! This notebook will guide you through basic data exploration and visualization techniques to understand how music listening differs across genders, countries, and genres.\n",
    "\n",
    "## Learning Objectives:\n",
    "\n",
    "- Load and explore a dataset on listening behaviour\n",
    "\n",
    "- Investigate creator and listener demographics\n",
    "\n",
    "- Create simple visualizations to identify patterns\n",
    "\n",
    "- Calculate basic statistics about representation"
   ]
  },
  {
   "cell_type": "markdown",
   "metadata": {},
   "source": [
    "## 🚀 Getting Started\n",
    "Let's start by importing the libraries we'll need and loading our data."
   ]
  },
  {
   "cell_type": "code",
   "execution_count": 3,
   "metadata": {},
   "outputs": [
    {
     "name": "stdout",
     "output_type": "stream",
     "text": [
      "Libraries imported successfully!\n"
     ]
    }
   ],
   "source": [
    "# Import necessary libraries\n",
    "import pandas as pd\n",
    "import matplotlib.pyplot as plt\n",
    "import seaborn as sns\n",
    "\n",
    "# Set up plotting style\n",
    "# 📖 Matplotlib styles: https://matplotlib.org/stable/gallery/style_sheets/style_sheets_reference.html\n",
    "# 📖 Seaborn color palettes: https://seaborn.pydata.org/tutorial/color_palettes.html\n",
    "plt.style.use('default') \n",
    "sns.set_palette(\"husl\") \n",
    "\n",
    "print(\"Libraries imported successfully!\")"
   ]
  },
  {
   "cell_type": "markdown",
   "metadata": {},
   "source": [
    "## 📂 Load the Dataset\n",
    "\n",
    "We have 4 datasets, each representing a different (anonymized) genre, and a legend describing the columns."
   ]
  },
  {
   "cell_type": "code",
   "execution_count": null,
   "metadata": {},
   "outputs": [],
   "source": [
    "# Explicitly list the 4 dataset files\n",
    "# 💡 Store the file paths in a list called data_files.\n",
    "# 📖 Docs: Working with file paths in Python: https://docs.python.org/3/library/os.path.html\n",
    "data_files = [\n",
    "    \"../../data/1 Creators and their Listeners with gender and 6 locations.csv\",\n",
    "    \"../../data/2 Creators and their Listeners with gender and 6 locations.csv\",\n",
    "    \"../../data/3 Creators and their Listeners with gender and 6 locations.csv\",\n",
    "    \"../../data/5 Creators and their Listeners with gender and 6 locations.csv\"\n",
    "]\n",
    "\n",
    "# Load all datasets into a dictionary\n",
    "# 💡 Reading the csv file for each data set above\n",
    "# 📖 Docs: Reading CSV files with pandas: https://pandas.pydata.org/docs/reference/api/pandas.read_csv.html\n",
    "datasets = {}\n",
    "for i, file in enumerate(data_files):\n",
    "    name = f\"Genre {i+1}\"\n",
    "    datasets[name] = pd.read_csv(file)\n",
    "\n",
    "# Load legend\n",
    "legend = pd.read_csv(\"../../data/legend.csv\")"
   ]
  },
  {
   "cell_type": "markdown",
   "metadata": {},
   "source": [
    "## 🔍 Explore the Data\n",
    "\n",
    "Let's check the shape and columns of each dataset to get a sense of what we're working with."
   ]
  },
  {
   "cell_type": "code",
   "execution_count": 7,
   "metadata": {},
   "outputs": [
    {
     "ename": "NameError",
     "evalue": "name 'datasets' is not defined",
     "output_type": "error",
     "traceback": [
      "\u001b[31m---------------------------------------------------------------------------\u001b[39m",
      "\u001b[31mNameError\u001b[39m                                 Traceback (most recent call last)",
      "\u001b[36mCell\u001b[39m\u001b[36m \u001b[39m\u001b[32mIn[7]\u001b[39m\u001b[32m, line 3\u001b[39m\n\u001b[32m      1\u001b[39m genre = \u001b[33m\"\u001b[39m\u001b[33mGenre 1\u001b[39m\u001b[33m\"\u001b[39m   \u001b[38;5;66;03m# You can change this!\u001b[39;00m\n\u001b[32m----> \u001b[39m\u001b[32m3\u001b[39m df = \u001b[43mdatasets\u001b[49m[genre]\n\u001b[32m      4\u001b[39m \u001b[38;5;28mprint\u001b[39m(\u001b[33mf\u001b[39m\u001b[33m\"\u001b[39m\u001b[38;5;132;01m{\u001b[39;00mname\u001b[38;5;132;01m}\u001b[39;00m\u001b[33m: \u001b[39m\u001b[38;5;132;01m{\u001b[39;00mdf.shape[\u001b[32m0\u001b[39m]\u001b[38;5;132;01m}\u001b[39;00m\u001b[33m rows, \u001b[39m\u001b[38;5;132;01m{\u001b[39;00mdf.shape[\u001b[32m1\u001b[39m]\u001b[38;5;132;01m}\u001b[39;00m\u001b[33m columns\u001b[39m\u001b[33m\"\u001b[39m)\n\u001b[32m      5\u001b[39m df.head(\u001b[32m2\u001b[39m)\n",
      "\u001b[31mNameError\u001b[39m: name 'datasets' is not defined"
     ]
    }
   ],
   "source": [
    "genre = \"Genre 1\"   # You can change this!\n",
    "\n",
    "df = datasets[genre]\n",
    "print(f\"{name}: {df.shape[0]} rows, {df.shape[1]} columns\")\n",
    "df.head(2)\n",
    "\n",
    "# 🚀 Try accessing other genres\n"
   ]
  },
  {
   "cell_type": "markdown",
   "metadata": {},
   "source": [
    "We can always check column definitions in our legend."
   ]
  },
  {
   "cell_type": "code",
   "execution_count": null,
   "metadata": {},
   "outputs": [],
   "source": [
    "# Look up column description in our legend\n",
    "column = 'creator_gender'   # You can change this!\n",
    "row = legend[legend['Column'] == column]\n",
    "description = row['Description']\n",
    "description.values[0]"
   ]
  },
  {
   "cell_type": "markdown",
   "metadata": {},
   "source": [
    "Or feel free to open it in your favorite spreadsheet program (Excel, Numbers, Google Sheets) to explore the descriptions!"
   ]
  },
  {
   "cell_type": "markdown",
   "metadata": {
    "jp-MarkdownHeadingCollapsed": true
   },
   "source": [
    "## 🌍 (Example) Step 1: Listening Across Countries\n",
    "\n",
    "Each dataset includes plays from 6 countries. Let's compare total plays by country for one genre."
   ]
  },
  {
   "cell_type": "code",
   "execution_count": null,
   "metadata": {},
   "outputs": [],
   "source": [
    "# Choose the genre to explore\n",
    "genre = 'Genre 1'   # You can change this!\n",
    "df = datasets[genre]\n",
    "\n",
    "# Define the countries\n",
    "countries = ['BR', 'DE', 'EG', 'GB', 'US', 'VN']\n",
    "\n",
    "# Select columns for total plays in each country (if they exist)\n",
    "country_cols = [f'total_play_count_{c}' for c in countries if f'total_play_count_{c}' in df.columns]\n",
    "\n",
    "# Calculate total plays per country\n",
    "country_totals = df[country_cols].sum()\n",
    "\n",
    "# Display basic statistics\n",
    "print(f\"Total Plays by Country ({genre}):\")\n",
    "print(country_totals)"
   ]
  },
  {
   "cell_type": "code",
   "execution_count": null,
   "metadata": {},
   "outputs": [],
   "source": [
    "# Plot the results as a bar chart\n",
    "country_totals.plot(kind='bar')\n",
    "plt.title(f\"Total Plays by Country ({genre})\")\n",
    "plt.ylabel(\"Total Plays\")\n",
    "plt.show()"
   ]
  },
  {
   "cell_type": "markdown",
   "metadata": {},
   "source": [
    "## 🎨 Step 2: Gender Representation Among Listeners (per Country)\n",
    "\n",
    "Let's zoom into one country (e.g., the US) and see how plays are distributed among listener genders."
   ]
  },
  {
   "cell_type": "code",
   "execution_count": 1,
   "metadata": {},
   "outputs": [
    {
     "ename": "SyntaxError",
     "evalue": "invalid syntax (1703425563.py, line 12)",
     "output_type": "error",
     "traceback": [
      "  \u001b[36mCell\u001b[39m\u001b[36m \u001b[39m\u001b[32mIn[1]\u001b[39m\u001b[32m, line 12\u001b[39m\n\u001b[31m    \u001b[39m\u001b[31m'Female': # Your code goes here!\u001b[39m\n            ^\n\u001b[31mSyntaxError\u001b[39m\u001b[31m:\u001b[39m invalid syntax\n"
     ]
    }
   ],
   "source": [
    "# Choose the country and genre to explore\n",
    "# 🚀  Try changing to BR, DE, EG, GB, or VN\n",
    "# 💡 df stands for data frame and is a table like structure\n",
    "\n",
    "country = 'US'   \n",
    "genre = 'Genre 1' \n",
    "df = datasets[genre] \n",
    "\n",
    "# Calculate total plays by listener gender for the selected country\n",
    "# 💡 Have a look at the legend. Which column describes both gender and country?\n",
    "# 💡 You can have a look in 🔍 Explore the Data or open the legend from the repo directly\n",
    "\n",
    "# 📖 docs about accessing a column: https://pandas.pydata.org/docs/user_guide/indexing.html#basics\n",
    "# 📖 docs about adding variables to a sting: https://www.w3schools.com/python/python_string_formatting.asp\n",
    "# 📖 docs about adding all values of one df together : https://pandas.pydata.org/docs/reference/api/pandas.DataFrame.sum.html\n",
    "\n",
    "listener_gender_totals = {\n",
    "    'Male': # Your code goes here!\n",
    "    'Female': # Your code goes here!\n",
    "    'Custom': # Your code goes here!\n",
    "    'Null': # Your code goes here!\n",
    "}\n",
    "\n",
    "# Display counts\n",
    "print(\"Listener gender counts:\")\n",
    "print(pd.Series(listener_gender_totals))\n",
    "\n",
    "# 🚀 Try changing the genre and see how other genres look like. "
   ]
  },
  {
   "cell_type": "code",
   "execution_count": 5,
   "metadata": {},
   "outputs": [],
   "source": [
    "# Create a pie chart\n",
    "# 💡 Pie charts are useful for visualizing the proportion of categories in a dataset.\n",
    "# 💡 plt.pie() creates a pie chart. You can pass values (e.g., listener_gender_totals.values()) and set labels.\n",
    "\n",
    "# 📖 Pie chart docs: https://matplotlib.org/stable/api/_as_gen/matplotlib.pyplot.pie.html\n",
    "# 📖 More on plotting: https://www.w3schools.com/python/matplotlib_pie_charts.asp\n",
    "# 📖 Docs on using .values() and .keys() for dictionaries: https://www.w3schools.com/python/python_dictionaries.asp\n",
    "\n",
    "# ⚠️ Don't forget to call plt.show() to display your chart!\n",
    "\n",
    "\n",
    "# Your code goes here!\n",
    "\n",
    "\n",
    "# 🚀 Try changing the genre or country in earlier cells and see how the chart updates."
   ]
  },
  {
   "cell_type": "markdown",
   "metadata": {},
   "source": [
    "## 🧭 Step 3: Understanding Creator Demographics\n",
    "\n",
    "Let's explore how many creators identify as male, female, custom, or null in each genre."
   ]
  },
  {
   "cell_type": "code",
   "execution_count": 6,
   "metadata": {},
   "outputs": [
    {
     "ename": "SyntaxError",
     "evalue": "invalid syntax (4158321990.py, line 7)",
     "output_type": "error",
     "traceback": [
      "  \u001b[36mCell\u001b[39m\u001b[36m \u001b[39m\u001b[32mIn[6]\u001b[39m\u001b[32m, line 7\u001b[39m\n\u001b[31m    \u001b[39m\u001b[31mcolumn = # Your code goes here!\u001b[39m\n             ^\n\u001b[31mSyntaxError\u001b[39m\u001b[31m:\u001b[39m invalid syntax\n"
     ]
    }
   ],
   "source": [
    "# Choose the genre to explore\n",
    "genre = \"Genre 1\"   # You can change this!\n",
    "df = datasets[genre]\n",
    "\n",
    "# Column to analyze\n",
    "# 💡 What is the name of the column representing the creator's gender? Check the data or the legend if needed.\n",
    "# 📖 Docs: How to select a column: https://pandas.pydata.org/docs/user_guide/indexing.html#basics\n",
    "\n",
    "column = # Your code goes here!\n",
    "\n",
    "# Counts per gender\n",
    "# 💡 value_counts() counts unique values in a Series (e.g., a DataFrame column).\n",
    "# 💡 Setting dropna=False means missing (NA) values are also counted.\n",
    "# 📖 value_counts() reference: https://pandas.pydata.org/docs/reference/api/pandas.Series.value_counts.html\n",
    "\n",
    "gender_counts = # Your code goes here!\n",
    "\n",
    "# Display statistics\n",
    "print(\"Genre:\", genre)\n",
    "print(\"\\nCounts by gender:\")\n",
    "print(gender_counts)\n",
    "\n",
    "# 🚀 Try changing the genre and see how the counts change."
   ]
  },
  {
   "cell_type": "code",
   "execution_count": null,
   "metadata": {},
   "outputs": [],
   "source": [
    "# Calculate the percentage for every genre\n",
    "\n",
    "# 💡 We loop through all genres in the datasets dictionary using .items()\n",
    "# 📖 Docs on dictionary iteration: https://www.w3schools.com/python/python_dictionaries_loop.asp\n",
    "\n",
    "# 💡 Remember: normalize=True converts counts to proportions (decimals between 0 and 1)\n",
    "# 💡 Multiply by 100 to convert decimals to percentages\n",
    "# 📖 value_counts() with normalize: https://pandas.pydata.org/docs/reference/api/pandas.Series.value_counts.html\n",
    "# 📖 Getting percentages instead of counts: https://www.statology.org/pandas-value_counts-percentage/\n",
    "\n",
    "creator_gender_summary = {}\n",
    "for name, df in datasets.items():\n",
    "    gender_pcts = # Your code goes here! Keep in mind we need percentages rather than counts.\n",
    "    creator_gender_summary[name] = gender_pcts\n",
    "\n",
    "# Transpose the DataFrame so that genres are rows and genders are columns\n",
    "\n",
    "creator_gender_df = pd.DataFrame(creator_gender_summary).T\n",
    "\n",
    "# Plot a stacked bar chart of creator gender distribution\n",
    "# 💡 Stacked bar charts show composition—each bar's segments represent different categories\n",
    "# 💡 Use .plot() on the DataFrame with kind='bar' and stacked=True\n",
    "# 💡 Don't forget to add a title, ylabel, legend, and call plt.show()!\n",
    "# 📖 Plotting bar charts with pandas: https://pandas.pydata.org/docs/reference/api/pandas.DataFrame.plot.bar.html\n",
    "# 📖 More on bar charts: https://www.w3schools.com/python/matplotlib_bars.asp\n",
    "\n",
    "# Your code goes here!"
   ]
  },
  {
   "cell_type": "markdown",
   "metadata": {},
   "source": [
    "## 📊 (Optional) Step 4: Calculating Representation Ratios\n",
    "\n",
    "Let's measure the ratio of female creators to female listeners for each genre — a simple proxy for representation."
   ]
  },
  {
   "cell_type": "code",
   "execution_count": null,
   "metadata": {},
   "outputs": [],
   "source": [
    "# Choose the genre to explore\n",
    "genre = 'Genre 1'  # You can change this!\n",
    "df = datasets[genre]\n",
    "\n",
    "# Percentage of female creators and listeners\n",
    "# 💡 To get the percentage of female creators: count rows where creator_gender is 'female', then divide by total rows. Multiply by 100 for percentage.\n",
    "# 📖 Docs on filtering and mean: https://pandas.pydata.org/docs/user_guide/groupby.html\n",
    "# 💡 Use df['creator_gender'].eq('female').mean() * 100 to calculate the percentage of female creators.\n",
    "pct_creators_female = # Your code goes here!\n",
    "\n",
    "# 💡 To get the percentage of plays by female listeners: sum the total_play_count_female column, divide by the sum of total_play_count, then multiply by 100.\n",
    "# 📖 Docs on sum: https://pandas.pydata.org/docs/reference/api/pandas.DataFrame.sum.html\n",
    "# 📖 General percentage calculation: https://www.geeksforgeeks.org/python/how-to-calculate-the-percentage-of-a-column-in-pandas/\n",
    "pct_listeners_female = # Your code goes here!\n",
    "\n",
    "print(f\"Percentage of female creators: {pct_creators_female:.1f}%\")\n",
    "print(f\"Percentage of plays by female listeners: {pct_listeners_female:.1f}%\")\n",
    "print(f\"Difference (listeners - creators): {pct_listeners_female - pct_creators_female:.1f}%\")\n",
    "\n",
    "# 🚀 Try changing the genre and see how these percentages change!"
   ]
  },
  {
   "cell_type": "code",
   "execution_count": null,
   "metadata": {},
   "outputs": [],
   "source": [
    "# Initialize an empty list to store representation data\n",
    "rep_data = []\n",
    "\n",
    "# Loop through each genre dataset\n",
    "for name, df in datasets.items():\n",
    "    # Calculate the percentage of creators who are female\n",
    "    # 💡 Count the creators whose gender is 'female', divide by total creators, multiply by 100.\n",
    "    # 📖 Docs: Filtering and mean: https://pandas.pydata.org/docs/reference/api/pandas.Series.mean.html\n",
    "    pct_creators_female = # Your code goes here!\n",
    "\n",
    "    # Calculate the percentage of listeners who are female\n",
    "    # 💡 Sum total_play_count_female, divide by sum of total_play_count (all listeners), and multiply by 100.\n",
    "    # 📖 Docs: Summing DataFrame columns: https://pandas.pydata.org/docs/reference/api/pandas.DataFrame.sum.html\n",
    "    # 📖 Percentage calculation: https://www.geeksforgeeks.org/python/how-to-calculate-the-percentage-of-a-column-in-pandas/\n",
    "    pct_listeners_female = # Your code goes here!\n",
    "\n",
    "    # Add a list of genre name, female creators %, and female listeners % to the list\n",
    "    rep_data.append([name, pct_creators_female, pct_listeners_female])\n",
    "\n",
    "\n",
    "# Convert the list of lists into a DataFrame\n",
    "# 💡 pd.DataFrame(...) can build a DataFrame from a list of lists. Don't forget to specify column names!\n",
    "# 📖 Example with DataFrame from lists: https://www.geeksforgeeks.org/python/creating-pandas-dataframe-using-list-of-lists/ [1][3][4]\n",
    "rep_df = pd.DataFrame(rep_data, columns=['Genre', 'Female Creators (%)', 'Female Listeners (%)'])\n",
    "\n",
    "# Plot a bar chart comparing female creators vs female listeners for each genre\n",
    "# 💡 Use rep_df.plot with kind='bar' and x='Genre' to visualize the comparison.\n",
    "# 💡 Add a title and ylabel, and call plt.show() to display your chart.\n",
    "# 📖 Plotting with pandas: https://pandas.pydata.org/docs/reference/api/pandas.DataFrame.plot.html\n",
    "\n",
    "# Your code goes here!"
   ]
  },
  {
   "cell_type": "markdown",
   "metadata": {},
   "source": [
    "## 💡 Key Insights\n",
    "\n",
    "Based on your analysis above, write down 3-5 key insights you've discovered about DEI in the music industry:"
   ]
  },
  {
   "cell_type": "markdown",
   "metadata": {},
   "source": [
    "### Your Insights:\n",
    "\n",
    "1. **Gender Representation**: [Write your observation about gender distribution among creators and listeners]\n",
    "\n",
    "2. **Listener Diversity by Country**: [Write your observation about how listener demographics differ across countries]\n",
    "\n",
    "3. **Genre-Specific Trends**: [Write your observation about differences across genres]\n",
    "\n",
    "4. **Data Limitations & Biases**: [Write your observation about missing or anonymized data and its implications]\n",
    "\n",
    "5. **Additional Insight**: [Any other pattern you noticed]"
   ]
  },
  {
   "cell_type": "markdown",
   "metadata": {},
   "source": [
    "## Next Steps\n",
    "\n",
    "Congratulations! You've completed the beginner level analysis. You've learned how to:\n",
    "\n",
    "- Load and explore a dataset\n",
    "\n",
    "- Calculate basic statistics\n",
    "\n",
    "- Create visualizations to understand data patterns\n",
    "\n",
    "- Analyze representation across different demographics\n",
    "\n",
    "### Ready for more?\n",
    "Move on to the **Intermediate Level** notebook to dive deeper into statistical analysis and more advanced visualizations!"
   ]
  }
 ],
 "metadata": {
  "kernelspec": {
   "display_name": "Python 3 (ipykernel)",
   "language": "python",
   "name": "python3"
  },
  "language_info": {
   "codemirror_mode": {
    "name": "ipython",
    "version": 3
   },
   "file_extension": ".py",
   "mimetype": "text/x-python",
   "name": "python",
   "nbconvert_exporter": "python",
   "pygments_lexer": "ipython3",
   "version": "3.13.8"
  }
 },
 "nbformat": 4,
 "nbformat_minor": 4
}
