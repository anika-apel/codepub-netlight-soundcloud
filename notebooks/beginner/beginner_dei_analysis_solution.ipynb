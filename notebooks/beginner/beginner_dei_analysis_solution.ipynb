{
 "cells": [
  {
   "cell_type": "markdown",
   "metadata": {},
   "source": [
    "# [SOLUTION] Beginner Level: Exploring DEI in the Music Industry\n",
    "\n",
    "Welcome to the beginner workshop on Diversity, Equity, and Inclusion (DEI) in the music industry! This notebook will guide you through basic data exploration and visualization techniques to understand how music listening differs across genders, countries, and genres.\n",
    "\n",
    "## Learning Objectives:\n",
    "\n",
    "- Load and explore a dataset on listening behaviour\n",
    "\n",
    "- Investigate creator and listener demographics\n",
    "\n",
    "- Create simple visualizations to identify patterns\n",
    "\n",
    "- Calculate basic statistics about representation"
   ]
  },
  {
   "cell_type": "markdown",
   "metadata": {},
   "source": [
    "## 🚀 Getting Started\n",
    "Let's start by importing the libraries we'll need and loading our data."
   ]
  },
  {
   "cell_type": "code",
   "execution_count": null,
   "metadata": {},
   "outputs": [],
   "source": [
    "# Import necessary libraries\n",
    "import pandas as pd\n",
    "import matplotlib.pyplot as plt\n",
    "import seaborn as sns\n",
    "\n",
    "# Set up plotting style\n",
    "plt.style.use('default')\n",
    "sns.set_palette(\"husl\")\n",
    "\n",
    "print(\"Libraries imported successfully!\")"
   ]
  },
  {
   "cell_type": "markdown",
   "metadata": {},
   "source": [
    "## Helpers in this Document\n",
    "\n",
    "To guide you through this workshop there are some pointers in the individual sections to show you where you can experiment with the data. \n",
    "\n",
    "#### 💡 shows you general information or tips \n",
    "#### 📖 points you to documentation that helps you with specific syntax that can be used \n",
    "#### 🚀 shows you where you can explore more on your own "
   ]
  },
  {
   "cell_type": "markdown",
   "metadata": {},
   "source": [
    "## 📂 Load the Dataset\n",
    "\n",
    "We have 4 datasets, each representing a different (anonymized) genre, and a legend describing the columns."
   ]
  },
  {
   "cell_type": "code",
   "execution_count": null,
   "metadata": {},
   "outputs": [],
   "source": [
    "# Explicitly list the 4 dataset files\n",
    "data_files = [\n",
    "    \"../../data/1 Creators and their Listeners with gender and 6 locations.csv\",\n",
    "    \"../../data/2 Creators and their Listeners with gender and 6 locations.csv\",\n",
    "    \"../../data/3 Creators and their Listeners with gender and 6 locations.csv\",\n",
    "    \"../../data/5 Creators and their Listeners with gender and 6 locations.csv\"\n",
    "]\n",
    "\n",
    "# Load all datasets into a dictionary\n",
    "datasets = {}\n",
    "for i, file in enumerate(data_files):\n",
    "    name = f\"Genre {i+1}\"\n",
    "    datasets[name] = pd.read_csv(file)\n",
    "\n",
    "# Load legend\n",
    "legend = pd.read_csv(\"../../data/legend.csv\")"
   ]
  },
  {
   "cell_type": "markdown",
   "metadata": {},
   "source": [
    "## 🔍 Explore the Data\n",
    "\n",
    "Let's check the shape and columns of each dataset to get a sense of what we're working with."
   ]
  },
  {
   "cell_type": "code",
   "execution_count": null,
   "metadata": {},
   "outputs": [],
   "source": [
    "genre = \"Genre 1\"   # You can change this!\n",
    "df = datasets[genre]\n",
    "print(f\"{name}: {df.shape[0]} rows, {df.shape[1]} columns\")\n",
    "df.head(2)"
   ]
  },
  {
   "cell_type": "markdown",
   "metadata": {},
   "source": [
    "We can always check column definitions in our legend."
   ]
  },
  {
   "cell_type": "code",
   "execution_count": null,
   "metadata": {},
   "outputs": [],
   "source": [
    "# Look up column description in our legend\n",
    "column = 'creator_gender'   # You can change this!\n",
    "row = legend[legend['Column'] == column]\n",
    "description = row['Description']\n",
    "description.values[0]"
   ]
  },
  {
   "cell_type": "markdown",
   "metadata": {},
   "source": [
    "Or feel free to open it in your favorite spreadsheet program (Excel, Numbers, Google Sheets) to explore the descriptions!"
   ]
  },
  {
   "cell_type": "markdown",
   "metadata": {
    "jp-MarkdownHeadingCollapsed": true
   },
   "source": [
    "## 🌍 (Example) Step 1: Listening Across Countries\n",
    "\n",
    "Each dataset includes plays from 6 countries. Let's compare total plays by country for one genre."
   ]
  },
  {
   "cell_type": "code",
   "execution_count": null,
   "metadata": {},
   "outputs": [],
   "source": [
    "# Choose the genre to explore\n",
    "genre = 'Genre 1'   # You can change this!\n",
    "df = datasets[genre]\n",
    "\n",
    "# Define the countries\n",
    "countries = ['BR', 'DE', 'EG', 'GB', 'US', 'VN']\n",
    "\n",
    "# Select columns for total plays in each country (if they exist)\n",
    "country_cols = [f'total_play_count_{c}' for c in countries if f'total_play_count_{c}' in df.columns]\n",
    "\n",
    "# Calculate total plays per country\n",
    "country_totals = df[country_cols].sum()\n",
    "\n",
    "# Display basic statistics\n",
    "print(f\"Total Plays by Country ({genre}):\")\n",
    "print(country_totals)"
   ]
  },
  {
   "cell_type": "code",
   "execution_count": null,
   "metadata": {},
   "outputs": [],
   "source": [
    "# Plot the results as a bar chart\n",
    "country_totals.plot(kind='bar')\n",
    "plt.title(f\"Total Plays by Country ({genre})\")\n",
    "plt.ylabel(\"Total Plays\")\n",
    "plt.show()"
   ]
  },
  {
   "cell_type": "markdown",
   "metadata": {},
   "source": [
    "## 🎨 Step 2: Gender Representation Among Listeners (per Country)\n",
    "\n",
    "Let's zoom into one country (e.g., the US) and see how plays are distributed among listener genders."
   ]
  },
  {
   "cell_type": "code",
   "execution_count": null,
   "metadata": {},
   "outputs": [],
   "source": [
    "# Choose the country and genre to explore\n",
    "country = 'US'   # Try changing to BR, DE, EG, GB, or VN\n",
    "genre = 'Genre 1'\n",
    "df = datasets[genre]\n",
    "\n",
    "# Calculate total plays by listener gender for the selected country\n",
    "listener_gender_totals = {\n",
    "    'Male': df[f'plays_by_males_{country}'].sum(),\n",
    "    'Female': df[f'plays_by_females_{country}'].sum(),\n",
    "    'Custom': df[f'plays_by_custom_gender_{country}'].sum(),\n",
    "    'Null': df[f'plays_by_null_gender_{country}'].sum(),\n",
    "}\n",
    "\n",
    "# Display counts\n",
    "print(\"Listener gender counts:\")\n",
    "print(pd.Series(listener_gender_totals))"
   ]
  },
  {
   "cell_type": "code",
   "execution_count": null,
   "metadata": {},
   "outputs": [],
   "source": [
    "# Create a pie chart\n",
    "plt.figure()\n",
    "plt.pie(\n",
    "    listener_gender_totals.values(),\n",
    "    labels=listener_gender_totals.keys(),\n",
    "    autopct='%1.1f%%',\n",
    ")\n",
    "plt.title(f\"Listener Gender Distribution in {country}: {genre}\")\n",
    "plt.show()"
   ]
  },
  {
   "cell_type": "markdown",
   "metadata": {},
   "source": [
    "## 🧭 Step 3: Understanding Creator Demographics\n",
    "\n",
    "Let's explore how many creators identify as male, female, custom, or null in each genre."
   ]
  },
  {
   "cell_type": "code",
   "execution_count": null,
   "metadata": {},
   "outputs": [],
   "source": [
    "# Choose the genre to explore\n",
    "genre = \"Genre 1\"   # You can change this!\n",
    "df = datasets[genre]\n",
    "\n",
    "# Column to analyze\n",
    "column = 'creator_gender'\n",
    "\n",
    "# Counts per gender\n",
    "gender_counts = df[column].value_counts(dropna=False)\n",
    "\n",
    "# Display statistics\n",
    "print(\"Genre:\", genre)\n",
    "print(\"\\nCounts by gender:\")\n",
    "print(gender_counts)"
   ]
  },
  {
   "cell_type": "code",
   "execution_count": null,
   "metadata": {},
   "outputs": [],
   "source": [
    "# Calculate the percentage for every genre\n",
    "creator_gender_summary = {}\n",
    "for name, df in datasets.items():\n",
    "    gender_pcts = df[column].value_counts(normalize=True, dropna=False) * 100\n",
    "    creator_gender_summary[name] = gender_pcts\n",
    "\n",
    "# Transpose the DataFrame so that genres are rows and genders are columns\n",
    "creator_gender_df = pd.DataFrame(creator_gender_summary).T\n",
    "\n",
    "# Plot a stacked bar chart of creator gender distribution\n",
    "creator_gender_df.plot(kind='bar', stacked=True)\n",
    "plt.title(\"Creator Gender Distribution by Genre\")\n",
    "plt.ylabel(\"Percentage of Creators\")\n",
    "plt.legend(title=\"Gender\", bbox_to_anchor=(1.05, 1))\n",
    "plt.show()"
   ]
  },
  {
   "cell_type": "markdown",
   "metadata": {},
   "source": [
    "## 📊 (Optional) Step 4: Calculating Representation Ratios\n",
    "\n",
    "Let's measure the ratio of female creators to female listeners for each genre — a simple proxy for representation."
   ]
  },
  {
   "cell_type": "code",
   "execution_count": null,
   "metadata": {},
   "outputs": [],
   "source": [
    "# Choose the genre to explore\n",
    "genre = 'Genre 1'   # You can change this!\n",
    "df = datasets[genre]\n",
    "\n",
    "# Percentage of female creators and listeners\n",
    "pct_creators_female = (df['creator_gender'].eq('female').mean()) * 100\n",
    "pct_listeners_female = (df['total_play_count_female'].sum() / df['total_play_count'].sum()) * 100\n",
    "\n",
    "print(f\"Percentage of female creators: {pct_creators_female:.1f}%\")\n",
    "print(f\"Percentage of plays by female listeners: {pct_listeners_female:.1f}%\")\n",
    "print(f\"Difference (listeners - creators): {pct_listeners_female - pct_creators_female:.1f}%\")"
   ]
  },
  {
   "cell_type": "code",
   "execution_count": null,
   "metadata": {},
   "outputs": [],
   "source": [
    "# Initialize an empty list to store representation data\n",
    "rep_data = []\n",
    "\n",
    "# Loop through each genre dataset\n",
    "for name, df in datasets.items():\n",
    "    \n",
    "    # Calculate the percentage of creators who are female\n",
    "    pct_creators_female = (df['creator_gender'].eq('female').mean()) * 100\n",
    "    \n",
    "    # Calculate the percentage of listeners who are female\n",
    "    pct_listeners_female = (df['total_play_count_female'].sum() / df['total_play_count'].sum()) * 100\n",
    "    \n",
    "     # Add a list of genre name, female creators %, and female listeners % to the list\n",
    "    rep_data.append([name, pct_creators_female, pct_listeners_female])\n",
    "\n",
    "# Convert the list of lists into a DataFrame\n",
    "rep_df = pd.DataFrame(rep_data, columns=['Genre', 'Female Creators (%)', 'Female Listeners (%)'])\n",
    "\n",
    "# Plot a bar chart comparing female creators vs female listeners for each genre\n",
    "rep_df.plot(x='Genre', kind='bar', figsize=(8,5))\n",
    "plt.title(\"Representation of Female Creators vs Female Listeners\")\n",
    "plt.ylabel(\"Percentage\")\n",
    "plt.show()"
   ]
  },
  {
   "cell_type": "markdown",
   "metadata": {},
   "source": [
    "## 💡 Key Insights\n",
    "\n",
    "Based on your analysis above, write down 3-5 key insights you've discovered about DEI in the music industry:"
   ]
  },
  {
   "cell_type": "markdown",
   "metadata": {},
   "source": [
    "### Your Insights:\n",
    "\n",
    "1. **Gender Representation**: [Write your observation about gender distribution among creators and listeners]\n",
    "\n",
    "2. **Listener Diversity by Country**: [Write your observation about how listener demographics differ across countries]\n",
    "\n",
    "3. **Genre-Specific Trends**: [Write your observation about differences across genres]\n",
    "\n",
    "4. **Data Limitations & Biases**: [Write your observation about missing or anonymized data and its implications]\n",
    "\n",
    "5. **Additional Insight**: [Any other pattern you noticed]"
   ]
  },
  {
   "cell_type": "markdown",
   "metadata": {},
   "source": [
    "## Next Steps\n",
    "\n",
    "Congratulations! You've completed the beginner level analysis. You've learned how to:\n",
    "\n",
    "- Load and explore a dataset\n",
    "\n",
    "- Calculate basic statistics\n",
    "\n",
    "- Create visualizations to understand data patterns\n",
    "\n",
    "- Analyze representation across different demographics\n",
    "\n",
    "### Ready for more?\n",
    "Move on to the **Intermediate Level** notebook to dive deeper into statistical analysis and more advanced visualizations!"
   ]
  }
 ],
 "metadata": {
  "kernelspec": {
   "display_name": "Python 3 (ipykernel)",
   "language": "python",
   "name": "python3"
  },
  "language_info": {
   "codemirror_mode": {
    "name": "ipython",
    "version": 3
   },
   "file_extension": ".py",
   "mimetype": "text/x-python",
   "name": "python",
   "nbconvert_exporter": "python",
   "pygments_lexer": "ipython3",
   "version": "3.13.7"
  }
 },
 "nbformat": 4,
 "nbformat_minor": 4
}
